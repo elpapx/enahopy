{
 "cells": [
  {
   "cell_type": "markdown",
   "metadata": {},
   "source": [
    "# Tutorial 01: Módulo Loader - Descarga y Carga de Datos ENAHO\n",
    "\n",
    "Este tutorial cubre el uso del módulo **loader** de enahopy para:\n",
    "- Descargar datos ENAHO directamente desde servidores del INEI\n",
    "- Leer archivos en múltiples formatos (DTA, SAV, CSV)\n",
    "- Gestionar caché para optimizar descargas repetidas\n",
    "- Validar columnas y metadatos\n",
    "\n",
    "## Módulos ENAHO a Utilizar\n",
    "\n",
    "- **Módulo 01**: Características de la vivienda y del hogar\n",
    "- **Módulo 34**: Sumaria - Variables calculadas\n",
    "- **Módulo 05**: Empleo e ingresos\n",
    "- **Módulo 02**: Características de los miembros del hogar"
   ]
  },
  {
   "cell_type": "code",
   "metadata": {
    "ExecuteTime": {
     "end_time": "2025-10-18T02:42:53.154847800Z",
     "start_time": "2025-10-18T02:42:53.115258900Z"
    }
   },
   "source": [
    "# Instalación (si es necesario)\n",
    "# !pip install enahopy\n",
    "\n",
    "import enahopy\n",
    "from enahopy.loader import ENAHODataDownloader\n",
    "from enahopy.loader.io import ENAHOLocalReader\n",
    "import pandas as pd\n",
    "import warnings\n",
    "warnings.filterwarnings('ignore')\n",
    "\n",
    "print(f\"enahopy versión: {enahopy.__version__}\")"
   ],
   "outputs": [
    {
     "name": "stdout",
     "output_type": "stream",
     "text": [
      "enahopy versión: 0.5.1\n"
     ]
    }
   ],
   "execution_count": 13
  },
  {
   "cell_type": "markdown",
   "metadata": {},
   "source": [
    "## 1. Descarga de Datos ENAHO\n",
    "\n",
    "### 1.1 Configuración Básica del Downloader"
   ]
  },
  {
   "cell_type": "code",
   "metadata": {
    "ExecuteTime": {
     "end_time": "2025-10-18T02:42:55.555963600Z",
     "start_time": "2025-10-18T02:42:55.489376700Z"
    }
   },
   "source": "# Inicializar el descargador con caché habilitado\ndownloader = ENAHODataDownloader(\n    verbose=True\n)\n\nprint(\"✅ Descargador inicializado\")\nprint(f\"📁 Directorio de caché: {downloader.config.cache_dir}\")",
   "outputs": [
    {
     "name": "stdout",
     "output_type": "stream",
     "text": [
      "2025-10-17 21:42:55 | INFO     | enahopy | ENAHOPY logging initialized\n",
      "2025-10-17 21:42:55 | DEBUG    | enahopy.loader.core.cache | No expired cache entries to clean\n",
      "✅ Descargador inicializado\n",
      "📁 Directorio de caché: .enaho_cache\n"
     ]
    }
   ],
   "execution_count": 14
  },
  {
   "cell_type": "markdown",
   "metadata": {},
   "source": [
    "### 1.2 Consultar Módulos y Años Disponibles"
   ]
  },
  {
   "cell_type": "code",
   "metadata": {
    "ExecuteTime": {
     "end_time": "2025-10-18T02:42:57.283096500Z",
     "start_time": "2025-10-18T02:42:57.212478900Z"
    }
   },
   "source": "# Obtener años disponibles\navailable_years = downloader.get_available_years()\nprint(f\"📅 Años disponibles: {available_years[:5]}...\")  # Primeros 5 años (más recientes)\nprint(f\"   Total: {len(available_years)} años\")\n\n# Obtener módulos disponibles\nyear = 2022\navailable_modules = downloader.get_available_modules()\nprint(f\"\\n📊 Módulos disponibles:\")\nfor module_id in sorted(available_modules.keys())[:10]:  # Primeros 10\n    print(f\"  - Módulo {module_id}: {available_modules[module_id]}\")",
   "outputs": [
    {
     "name": "stdout",
     "output_type": "stream",
     "text": [
      "📅 Años disponibles: ['2024', '2023', '2022', '2021', '2020']...\n",
      "   Total: 24 años\n",
      "\n",
      "📊 Módulos disponibles:\n",
      "  - Módulo 01: Características de la Vivienda y del Hogar\n",
      "  - Módulo 02: Características de los Miembros del Hogar\n",
      "  - Módulo 03: Educación\n",
      "  - Módulo 04: Salud\n",
      "  - Módulo 05: Empleo e Ingresos\n",
      "  - Módulo 07: Gastos en Alimentos y bebidas\n",
      "  - Módulo 08: Instituciones Beneficas\n",
      "  - Módulo 09: Mantenimiento de Viviendas\n",
      "  - Módulo 34: Sumarias ( Variables Calculadas )\n",
      "  - Módulo 37: Programas Sociales\n"
     ]
    }
   ],
   "execution_count": 15
  },
  {
   "cell_type": "markdown",
   "metadata": {},
   "source": [
    "### 1.3 Descargar Módulo 01 (Características de Vivienda y Hogar)"
   ]
  },
  {
   "cell_type": "code",
   "metadata": {
    "ExecuteTime": {
     "end_time": "2025-10-18T02:43:27.481367300Z",
     "start_time": "2025-10-18T02:42:59.767458600Z"
    }
   },
   "source": "# Descargar módulo 01 del año 2022\nyear = 2022\nmodule_id = \"01\"\n\nprint(f\"⬇️ Descargando módulo {module_id} del año {year}...\")\ndownloader.download(\n    modules=[module_id],\n    years=[str(year)],\n    output_dir=\".enaho_cache\",\n    decompress=True  # Extraer automáticamente archivos ZIP\n)\n\nprint(f\"✅ Descarga completada\")\nprint(f\"📂 Archivos extraídos en: .enaho_cache/modulo_{module_id}_{year}/\")",
   "outputs": [
    {
     "name": "stdout",
     "output_type": "stream",
     "text": [
      "⬇️ Descargando módulo 01 del año 2022...\n",
      "2025-10-17 21:42:59 | INFO     | enaho_downloader | === Iniciando descarga ENAHO corte transversal ===\n",
      "2025-10-17 21:42:59 | INFO     | enaho_downloader | Módulos: ['01']\n",
      "2025-10-17 21:42:59 | INFO     | enaho_downloader | Años: ['2022']\n",
      "2025-10-17 21:42:59 | INFO     | enaho_downloader | Directorio: .enaho_cache\n",
      "2025-10-17 21:42:59 | INFO     | enaho_downloader | Total de descargas programadas: 1\n",
      "2025-10-17 21:42:59 | INFO     | enaho_downloader | Descargando módulo 01 año 2022\n"
     ]
    },
    {
     "name": "stderr",
     "output_type": "stream",
     "text": [
      "Descargando modulo_01_2022.zip: 100%|██████████| 18.4M/18.4M [00:05<00:00, 3.48MiB/s]\n"
     ]
    },
    {
     "name": "stdout",
     "output_type": "stream",
     "text": [
      "2025-10-17 21:43:27 | INFO     | enaho_downloader | Descarga completada: modulo_01_2022.zip (17.5 MB)\n",
      "2025-10-17 21:43:27 | INFO     | enaho_downloader | Extraídos 7 archivos en: .enaho_cache\\modulo_01_2022\n",
      "2025-10-17 21:43:27 | INFO     | enaho_downloader | Archivo ZIP eliminado: modulo_01_2022.zip\n",
      "2025-10-17 21:43:27 | INFO     | enaho_downloader | === Resumen de descarga ===\n",
      "2025-10-17 21:43:27 | INFO     | enaho_downloader | Tareas completadas: 1/1\n",
      "2025-10-17 21:43:27 | INFO     | enaho_downloader | Tasa de éxito: 0.0%\n",
      "2025-10-17 21:43:27 | INFO     | enaho_downloader | Tiempo total: 27.6 segundos\n",
      "2025-10-17 21:43:27 | WARNING  | enaho_downloader | Tareas fallidas: [('2022', '01')]\n",
      "2025-10-17 21:43:27 | DEBUG    | enahopy.loader.core.cache | Cache updated for key: last_download_session\n",
      "2025-10-17 21:43:27 | INFO     | enahopy.performance.enahopy.loader.io.main.download | Function download executed in 27.5923s\n",
      "✅ Descarga completada\n",
      "📂 Archivos extraídos en: .enaho_cache/modulo_01_2022/\n"
     ]
    }
   ],
   "execution_count": 16
  },
  {
   "cell_type": "markdown",
   "metadata": {},
   "source": [
    "### 1.4 Descargar Módulo 34 (Sumaria)"
   ]
  },
  {
   "cell_type": "code",
   "metadata": {
    "ExecuteTime": {
     "end_time": "2025-10-18T02:44:21.280033900Z",
     "start_time": "2025-10-18T02:44:13.101547600Z"
    }
   },
   "source": "# Descargar módulo 34 (Sumaria)\nmodule_id = \"34\"\n\nprint(f\"⬇️ Descargando módulo {module_id} del año {year}...\")\ndownloader.download(\n    modules=[module_id],\n    years=[str(year)],\n    output_dir=\".enaho_cache\",\n    decompress=True\n)\n\nprint(f\"✅ Descarga completada\")\nprint(f\"📂 Archivos extraídos en: .enaho_cache/modulo_{module_id}_{year}/\")",
   "outputs": [
    {
     "name": "stdout",
     "output_type": "stream",
     "text": [
      "⬇️ Descargando módulo 34 del año 2022...\n",
      "2025-10-17 21:44:13 | INFO     | enaho_downloader | === Iniciando descarga ENAHO corte transversal ===\n",
      "2025-10-17 21:44:13 | INFO     | enaho_downloader | Módulos: ['34']\n",
      "2025-10-17 21:44:13 | INFO     | enaho_downloader | Años: ['2022']\n",
      "2025-10-17 21:44:13 | INFO     | enaho_downloader | Directorio: .enaho_cache\n",
      "2025-10-17 21:44:13 | INFO     | enaho_downloader | Total de descargas programadas: 1\n",
      "2025-10-17 21:44:13 | INFO     | enaho_downloader | Descargando módulo 34 año 2022\n"
     ]
    },
    {
     "name": "stderr",
     "output_type": "stream",
     "text": [
      "Descargando modulo_34_2022.zip: 100%|██████████| 26.1M/26.1M [00:07<00:00, 3.67MiB/s]\n"
     ]
    },
    {
     "name": "stdout",
     "output_type": "stream",
     "text": [
      "2025-10-17 21:44:20 | INFO     | enaho_downloader | Descarga completada: modulo_34_2022.zip (24.9 MB)\n",
      "2025-10-17 21:44:21 | INFO     | enaho_downloader | Extraídos 9 archivos en: .enaho_cache\\modulo_34_2022\n",
      "2025-10-17 21:44:21 | INFO     | enaho_downloader | Archivo ZIP eliminado: modulo_34_2022.zip\n",
      "2025-10-17 21:44:21 | INFO     | enaho_downloader | === Resumen de descarga ===\n",
      "2025-10-17 21:44:21 | INFO     | enaho_downloader | Tareas completadas: 1/1\n",
      "2025-10-17 21:44:21 | INFO     | enaho_downloader | Tasa de éxito: 0.0%\n",
      "2025-10-17 21:44:21 | INFO     | enaho_downloader | Tiempo total: 8.1 segundos\n",
      "2025-10-17 21:44:21 | WARNING  | enaho_downloader | Tareas fallidas: [('2022', '34')]\n",
      "2025-10-17 21:44:21 | DEBUG    | enahopy.loader.core.cache | Cache updated for key: last_download_session\n",
      "2025-10-17 21:44:21 | INFO     | enahopy.performance.enahopy.loader.io.main.download | Function download executed in 8.1144s\n",
      "✅ Descarga completada\n",
      "📂 Archivos extraídos en: .enaho_cache/modulo_34_2022/\n"
     ]
    }
   ],
   "execution_count": 17
  },
  {
   "cell_type": "markdown",
   "metadata": {},
   "source": [
    "## 2. Lectura de Archivos con ENAHOLocalReader\n",
    "\n",
    "### 2.1 Leer Módulo 01 con Selección de Columnas"
   ]
  },
  {
   "cell_type": "code",
   "metadata": {
    "ExecuteTime": {
     "end_time": "2025-10-18T02:55:07.301853800Z",
     "start_time": "2025-10-18T02:55:06.695303400Z"
    }
   },
   "source": "# Encontrar el archivo .dta del módulo 01\nimport glob\nimport os\n\n# Buscar archivos .dta en el directorio extraído\ndta_files = glob.glob(f\".enaho_cache/modulo_01_{year}/*.dta\")\nif dta_files:\n    file_path = dta_files[0]  # Tomar el primer archivo .dta\n    print(f\"📂 Archivo encontrado: {os.path.basename(file_path)}\")\nelse:\n    print(\"⚠️ No se encontró archivo .dta. Asegúrate de haber ejecutado la descarga.\")\n    file_path = None\n\n# Leer el archivo con ENAHOLocalReader\nif file_path:\n    # Columnas típicas del módulo 01: identificadores + características de vivienda\n    columns_01 = [\n        'conglome', 'vivienda', 'hogar',  # Identificadores\n        'result',  # Resultado de la encuesta\n        'p101',    # Tipo de vivienda\n        'p102',    # Material predominante en paredes\n        'p103',    # Material predominante en pisos\n        'p110',    # Abastecimiento de agua\n        'p111',    # Servicios higiénicos\n        'p112'     # Alumbrado eléctrico\n    ]\n    \n    print(\"\\n📖 Leyendo módulo 01...\")\n    reader = ENAHOLocalReader(file_path=file_path, verbose=False)\n    df_modulo01, validation = reader.read_data(columns=columns_01)\n    \n    print(f\"\\n✅ Datos cargados:\")\n    print(f\"   Filas: {len(df_modulo01):,}\")\n    print(f\"   Columnas: {len(df_modulo01.columns)}\")\n    print(f\"   Validación: {validation.found_columns}/{validation.requested_columns} columnas encontradas\")\n    print(f\"\\n📊 Primeras filas:\")\n    df_modulo01.head()\nelse:\n    df_modulo01 = None",
   "outputs": [
    {
     "name": "stdout",
     "output_type": "stream",
     "text": [
      "📂 Archivo encontrado: enaho01-2022-100.dta\n",
      "\n",
      "📖 Leyendo módulo 01...\n",
      "2025-10-17 21:55:06 | INFO     | enaho_downloader | Detectado formato de archivo: .dta\n",
      "2025-10-17 21:55:06 | INFO     | enaho_downloader | Usando lector: StataReader\n",
      "2025-10-17 21:55:06 | INFO     | enaho_downloader | Lector inicializado para archivo: .enaho_cache\\modulo_01_2022\\enaho01-2022-100.dta\n",
      "2025-10-17 21:55:06 | INFO     | enaho_downloader | Resultado de validación de columnas:\n",
      "Columnas encontradas: 8\n",
      "Columnas faltantes: 2\n",
      "Mapeos realizados:\n",
      "Columnas no encontradas: p111, p112\n",
      "\n",
      "\n",
      "✅ Datos cargados:\n",
      "   Filas: 44,122\n",
      "   Columnas: 8\n"
     ]
    },
    {
     "ename": "AttributeError",
     "evalue": "'ColumnValidationResult' object has no attribute 'requested_columns'",
     "output_type": "error",
     "traceback": [
      "\u001B[1;31m---------------------------------------------------------------------------\u001B[0m",
      "\u001B[1;31mAttributeError\u001B[0m                            Traceback (most recent call last)",
      "Cell \u001B[1;32mIn[21], line 35\u001B[0m\n\u001B[0;32m     33\u001B[0m \u001B[38;5;28mprint\u001B[39m(\u001B[38;5;124mf\u001B[39m\u001B[38;5;124m\"\u001B[39m\u001B[38;5;124m   Filas: \u001B[39m\u001B[38;5;132;01m{\u001B[39;00m\u001B[38;5;28mlen\u001B[39m(df_modulo01)\u001B[38;5;132;01m:\u001B[39;00m\u001B[38;5;124m,\u001B[39m\u001B[38;5;132;01m}\u001B[39;00m\u001B[38;5;124m\"\u001B[39m)\n\u001B[0;32m     34\u001B[0m \u001B[38;5;28mprint\u001B[39m(\u001B[38;5;124mf\u001B[39m\u001B[38;5;124m\"\u001B[39m\u001B[38;5;124m   Columnas: \u001B[39m\u001B[38;5;132;01m{\u001B[39;00m\u001B[38;5;28mlen\u001B[39m(df_modulo01\u001B[38;5;241m.\u001B[39mcolumns)\u001B[38;5;132;01m}\u001B[39;00m\u001B[38;5;124m\"\u001B[39m)\n\u001B[1;32m---> 35\u001B[0m \u001B[38;5;28mprint\u001B[39m(\u001B[38;5;124mf\u001B[39m\u001B[38;5;124m\"\u001B[39m\u001B[38;5;124m   Validación: \u001B[39m\u001B[38;5;132;01m{\u001B[39;00mvalidation\u001B[38;5;241m.\u001B[39mfound_columns\u001B[38;5;132;01m}\u001B[39;00m\u001B[38;5;124m/\u001B[39m\u001B[38;5;132;01m{\u001B[39;00mvalidation\u001B[38;5;241m.\u001B[39mrequested_columns\u001B[38;5;132;01m}\u001B[39;00m\u001B[38;5;124m columnas encontradas\u001B[39m\u001B[38;5;124m\"\u001B[39m)\n\u001B[0;32m     36\u001B[0m \u001B[38;5;28mprint\u001B[39m(\u001B[38;5;124mf\u001B[39m\u001B[38;5;124m\"\u001B[39m\u001B[38;5;130;01m\\n\u001B[39;00m\u001B[38;5;124m📊 Primeras filas:\u001B[39m\u001B[38;5;124m\"\u001B[39m)\n\u001B[0;32m     37\u001B[0m df_modulo01\u001B[38;5;241m.\u001B[39mhead()\n",
      "\u001B[1;31mAttributeError\u001B[0m: 'ColumnValidationResult' object has no attribute 'requested_columns'"
     ]
    }
   ],
   "execution_count": 21
  },
  {
   "cell_type": "markdown",
   "metadata": {},
   "source": [
    "### 2.2 Explorar Estructura del DataFrame"
   ]
  },
  {
   "cell_type": "code",
   "metadata": {
    "ExecuteTime": {
     "end_time": "2025-10-18T02:55:15.026528700Z",
     "start_time": "2025-10-18T02:55:14.772298800Z"
    }
   },
   "source": [
    "# Información del DataFrame\n",
    "print(\"ℹ️ Información del Dataset:\")\n",
    "print(df_modulo01.info())\n",
    "\n",
    "print(\"\\n📈 Estadísticas descriptivas:\")\n",
    "df_modulo01.describe()"
   ],
   "outputs": [
    {
     "name": "stdout",
     "output_type": "stream",
     "text": [
      "ℹ️ Información del Dataset:\n",
      "<class 'pandas.core.frame.DataFrame'>\n",
      "RangeIndex: 44122 entries, 0 to 44121\n",
      "Data columns (total 8 columns):\n",
      " #   Column    Non-Null Count  Dtype   \n",
      "---  ------    --------------  -----   \n",
      " 0   conglome  44122 non-null  category\n",
      " 1   vivienda  44122 non-null  category\n",
      " 2   hogar     44122 non-null  category\n",
      " 3   result    44122 non-null  category\n",
      " 4   p101      33854 non-null  category\n",
      " 5   p102      33854 non-null  category\n",
      " 6   p103      33854 non-null  category\n",
      " 7   p110      34213 non-null  category\n",
      "dtypes: category(8)\n",
      "memory usage: 625.4 KB\n",
      "None\n",
      "\n",
      "📈 Estadísticas descriptivas:\n"
     ]
    },
    {
     "data": {
      "text/plain": [
       "       conglome vivienda  hogar    result                p101  \\\n",
       "count     44122    44122  44122     44122               33854   \n",
       "unique     5359      649     15         6                   7   \n",
       "top      018861      002     11  completa  casa independiente   \n",
       "freq         27      429  43398     29212               30406   \n",
       "\n",
       "                                p102     p103  \\\n",
       "count                          33854    33854   \n",
       "unique                             9        7   \n",
       "top     ladrillo o bloque de cemento  cemento   \n",
       "freq                           16923    14785   \n",
       "\n",
       "                                      p110  \n",
       "count                                34213  \n",
       "unique                                   8  \n",
       "top     red publica, dentro de la vivienda  \n",
       "freq                                 27773  "
      ],
      "text/html": [
       "<div>\n",
       "<style scoped>\n",
       "    .dataframe tbody tr th:only-of-type {\n",
       "        vertical-align: middle;\n",
       "    }\n",
       "\n",
       "    .dataframe tbody tr th {\n",
       "        vertical-align: top;\n",
       "    }\n",
       "\n",
       "    .dataframe thead th {\n",
       "        text-align: right;\n",
       "    }\n",
       "</style>\n",
       "<table border=\"1\" class=\"dataframe\">\n",
       "  <thead>\n",
       "    <tr style=\"text-align: right;\">\n",
       "      <th></th>\n",
       "      <th>conglome</th>\n",
       "      <th>vivienda</th>\n",
       "      <th>hogar</th>\n",
       "      <th>result</th>\n",
       "      <th>p101</th>\n",
       "      <th>p102</th>\n",
       "      <th>p103</th>\n",
       "      <th>p110</th>\n",
       "    </tr>\n",
       "  </thead>\n",
       "  <tbody>\n",
       "    <tr>\n",
       "      <th>count</th>\n",
       "      <td>44122</td>\n",
       "      <td>44122</td>\n",
       "      <td>44122</td>\n",
       "      <td>44122</td>\n",
       "      <td>33854</td>\n",
       "      <td>33854</td>\n",
       "      <td>33854</td>\n",
       "      <td>34213</td>\n",
       "    </tr>\n",
       "    <tr>\n",
       "      <th>unique</th>\n",
       "      <td>5359</td>\n",
       "      <td>649</td>\n",
       "      <td>15</td>\n",
       "      <td>6</td>\n",
       "      <td>7</td>\n",
       "      <td>9</td>\n",
       "      <td>7</td>\n",
       "      <td>8</td>\n",
       "    </tr>\n",
       "    <tr>\n",
       "      <th>top</th>\n",
       "      <td>018861</td>\n",
       "      <td>002</td>\n",
       "      <td>11</td>\n",
       "      <td>completa</td>\n",
       "      <td>casa independiente</td>\n",
       "      <td>ladrillo o bloque de cemento</td>\n",
       "      <td>cemento</td>\n",
       "      <td>red publica, dentro de la vivienda</td>\n",
       "    </tr>\n",
       "    <tr>\n",
       "      <th>freq</th>\n",
       "      <td>27</td>\n",
       "      <td>429</td>\n",
       "      <td>43398</td>\n",
       "      <td>29212</td>\n",
       "      <td>30406</td>\n",
       "      <td>16923</td>\n",
       "      <td>14785</td>\n",
       "      <td>27773</td>\n",
       "    </tr>\n",
       "  </tbody>\n",
       "</table>\n",
       "</div>"
      ]
     },
     "execution_count": 22,
     "metadata": {},
     "output_type": "execute_result"
    }
   ],
   "execution_count": 22
  },
  {
   "cell_type": "markdown",
   "metadata": {},
   "source": [
    "### 2.3 Leer Módulo 34 (Sumaria)"
   ]
  },
  {
   "cell_type": "code",
   "metadata": {
    "ExecuteTime": {
     "end_time": "2025-10-18T02:56:37.032648100Z",
     "start_time": "2025-10-18T02:56:36.115304300Z"
    }
   },
   "source": [
    "# Encontrar el archivo .dta del módulo 34\n",
    "dta_files_34 = glob.glob(f\".enaho_cache/modulo_34_{year}/*.dta\")\n",
    "if dta_files_34:\n",
    "    file_path_34 = dta_files_34[0]\n",
    "    print(f\"📂 Archivo encontrado: {os.path.basename(file_path_34)}\")\n",
    "    \n",
    "    # Columnas del módulo 34 (Sumaria)\n",
    "    columns_34 = [\n",
    "        'conglome', 'vivienda', 'hogar',  # Identificadores\n",
    "        'ubigeo',    # Código de ubicación geográfica\n",
    "        'dominio',   # Dominio geográfico\n",
    "        'estrato',   # Estrato\n",
    "        'mieperho',  # Número de miembros del hogar\n",
    "        'gashog2d',  # Gasto total del hogar\n",
    "        'inghog2d',  # Ingreso total del hogar\n",
    "        'linpe',     # Línea de pobreza extrema\n",
    "        'linea',     # Línea de pobreza\n",
    "        'pobreza'    # Condición de pobreza\n",
    "    ]\n",
    "    \n",
    "    print(\"\\n📖 Leyendo módulo 34 (Sumaria)...\")\n",
    "    reader_34 = ENAHOLocalReader(file_path=file_path_34, verbose=False)\n",
    "    df_modulo34, validation_34 = reader_34.read_data(columns=columns_34)\n",
    "    \n",
    "    print(f\"\\n✅ Datos cargados:\")\n",
    "    print(f\"   Filas: {len(df_modulo34):,}\")\n",
    "    print(f\"   Columnas: {len(df_modulo34.columns)}\")\n",
    "    #print(f\"   Validación: {validation_34.found_columns}/{validation_34.requested_columns} columnas encontradas\")\n",
    "    print(f\"\\n📊 Primeras filas:\")\n",
    "    display(df_modulo34.head(5))\n",
    "else:\n",
    "    print(\"⚠️ No se encontró archivo .dta para módulo 34\")\n",
    "    df_modulo34 = None"
   ],
   "outputs": [
    {
     "name": "stdout",
     "output_type": "stream",
     "text": [
      "📂 Archivo encontrado: sumaria-2022-12g.dta\n",
      "\n",
      "📖 Leyendo módulo 34 (Sumaria)...\n",
      "2025-10-17 21:56:36 | INFO     | enaho_downloader | Detectado formato de archivo: .dta\n",
      "2025-10-17 21:56:36 | INFO     | enaho_downloader | Usando lector: StataReader\n",
      "2025-10-17 21:56:36 | INFO     | enaho_downloader | Lector inicializado para archivo: .enaho_cache\\modulo_34_2022\\sumaria-2022-12g.dta\n",
      "2025-10-17 21:56:36 | INFO     | enaho_downloader | Resultado de validación de columnas:\n",
      "Columnas encontradas: 12\n",
      "Columnas faltantes: 0\n",
      "Mapeos realizados:\n",
      "\n",
      "\n",
      "✅ Datos cargados:\n",
      "   Filas: 34,213\n",
      "   Columnas: 12\n",
      "\n",
      "📊 Primeras filas:\n"
     ]
    },
    {
     "data": {
      "text/plain": [
       "  conglome vivienda hogar  ubigeo dominio                         estrato  \\\n",
       "0   005030      008    11  010201   selva   de 20 000 a 49 999 habitantes   \n",
       "1   005030      017    11  010201   selva   de 20 000 a 49 999 habitantes   \n",
       "2   005030      033    11  010201   selva   de 20 000 a 49 999 habitantes   \n",
       "3   005030      050    11  010201   selva   de 20 000 a 49 999 habitantes   \n",
       "4   005030      059    11  010201   selva   de 20 000 a 49 999 habitantes   \n",
       "\n",
       "   mieperho      gashog2d      inghog2d       linpe       linea  \\\n",
       "0         2  36949.523438  34606.441406  223.765335  378.169434   \n",
       "1         2  48161.250000  82028.218750  223.765335  378.169434   \n",
       "2         4  27575.878906  31791.029297  223.765335  378.169434   \n",
       "3         3  16161.043945  24028.867188  223.765335  378.169434   \n",
       "4        11  30606.212891  46056.109375  223.765335  378.169434   \n",
       "\n",
       "            pobreza  \n",
       "0          no pobre  \n",
       "1          no pobre  \n",
       "2          no pobre  \n",
       "3          no pobre  \n",
       "4  pobre no extremo  "
      ],
      "text/html": [
       "<div>\n",
       "<style scoped>\n",
       "    .dataframe tbody tr th:only-of-type {\n",
       "        vertical-align: middle;\n",
       "    }\n",
       "\n",
       "    .dataframe tbody tr th {\n",
       "        vertical-align: top;\n",
       "    }\n",
       "\n",
       "    .dataframe thead th {\n",
       "        text-align: right;\n",
       "    }\n",
       "</style>\n",
       "<table border=\"1\" class=\"dataframe\">\n",
       "  <thead>\n",
       "    <tr style=\"text-align: right;\">\n",
       "      <th></th>\n",
       "      <th>conglome</th>\n",
       "      <th>vivienda</th>\n",
       "      <th>hogar</th>\n",
       "      <th>ubigeo</th>\n",
       "      <th>dominio</th>\n",
       "      <th>estrato</th>\n",
       "      <th>mieperho</th>\n",
       "      <th>gashog2d</th>\n",
       "      <th>inghog2d</th>\n",
       "      <th>linpe</th>\n",
       "      <th>linea</th>\n",
       "      <th>pobreza</th>\n",
       "    </tr>\n",
       "  </thead>\n",
       "  <tbody>\n",
       "    <tr>\n",
       "      <th>0</th>\n",
       "      <td>005030</td>\n",
       "      <td>008</td>\n",
       "      <td>11</td>\n",
       "      <td>010201</td>\n",
       "      <td>selva</td>\n",
       "      <td>de 20 000 a 49 999 habitantes</td>\n",
       "      <td>2</td>\n",
       "      <td>36949.523438</td>\n",
       "      <td>34606.441406</td>\n",
       "      <td>223.765335</td>\n",
       "      <td>378.169434</td>\n",
       "      <td>no pobre</td>\n",
       "    </tr>\n",
       "    <tr>\n",
       "      <th>1</th>\n",
       "      <td>005030</td>\n",
       "      <td>017</td>\n",
       "      <td>11</td>\n",
       "      <td>010201</td>\n",
       "      <td>selva</td>\n",
       "      <td>de 20 000 a 49 999 habitantes</td>\n",
       "      <td>2</td>\n",
       "      <td>48161.250000</td>\n",
       "      <td>82028.218750</td>\n",
       "      <td>223.765335</td>\n",
       "      <td>378.169434</td>\n",
       "      <td>no pobre</td>\n",
       "    </tr>\n",
       "    <tr>\n",
       "      <th>2</th>\n",
       "      <td>005030</td>\n",
       "      <td>033</td>\n",
       "      <td>11</td>\n",
       "      <td>010201</td>\n",
       "      <td>selva</td>\n",
       "      <td>de 20 000 a 49 999 habitantes</td>\n",
       "      <td>4</td>\n",
       "      <td>27575.878906</td>\n",
       "      <td>31791.029297</td>\n",
       "      <td>223.765335</td>\n",
       "      <td>378.169434</td>\n",
       "      <td>no pobre</td>\n",
       "    </tr>\n",
       "    <tr>\n",
       "      <th>3</th>\n",
       "      <td>005030</td>\n",
       "      <td>050</td>\n",
       "      <td>11</td>\n",
       "      <td>010201</td>\n",
       "      <td>selva</td>\n",
       "      <td>de 20 000 a 49 999 habitantes</td>\n",
       "      <td>3</td>\n",
       "      <td>16161.043945</td>\n",
       "      <td>24028.867188</td>\n",
       "      <td>223.765335</td>\n",
       "      <td>378.169434</td>\n",
       "      <td>no pobre</td>\n",
       "    </tr>\n",
       "    <tr>\n",
       "      <th>4</th>\n",
       "      <td>005030</td>\n",
       "      <td>059</td>\n",
       "      <td>11</td>\n",
       "      <td>010201</td>\n",
       "      <td>selva</td>\n",
       "      <td>de 20 000 a 49 999 habitantes</td>\n",
       "      <td>11</td>\n",
       "      <td>30606.212891</td>\n",
       "      <td>46056.109375</td>\n",
       "      <td>223.765335</td>\n",
       "      <td>378.169434</td>\n",
       "      <td>pobre no extremo</td>\n",
       "    </tr>\n",
       "  </tbody>\n",
       "</table>\n",
       "</div>"
      ]
     },
     "metadata": {},
     "output_type": "display_data",
     "jetTransient": {
      "display_id": null
     }
    }
   ],
   "execution_count": 26
  },
  {
   "cell_type": "markdown",
   "metadata": {},
   "source": [
    "## 3. Lectura de Datos a Nivel Persona\n",
    "\n",
    "### 3.1 Descargar y Leer Módulo 02 (Características de Miembros del Hogar)"
   ]
  },
  {
   "cell_type": "code",
   "metadata": {
    "ExecuteTime": {
     "end_time": "2025-10-18T02:55:57.254320600Z",
     "start_time": "2025-10-18T02:55:28.780902Z"
    }
   },
   "source": "# Descargar módulo 02\nmodule_id = \"02\"\n\nprint(f\"⬇️ Descargando módulo {module_id}...\")\ndownloader.download(\n    modules=[module_id],\n    years=[str(year)],\n    output_dir=\".enaho_cache\",\n    decompress=True\n)\n\n# Encontrar archivo .dta del módulo 02\ndta_files_02 = glob.glob(f\".enaho_cache/modulo_02_{year}/*.dta\")\nif dta_files_02:\n    file_path_02 = dta_files_02[0]\n    print(f\"\\n📂 Archivo encontrado: {os.path.basename(file_path_02)}\")\n    \n    # Columnas del módulo 02\n    columns_02 = [\n        'conglome', 'vivienda', 'hogar', 'codperso',  # Identificadores\n        'p203',     # Parentesco con jefe de hogar\n        'p204',     # Sexo\n        'p205',     # Edad en años\n        'p206',     # Estado civil\n        'p208a',    # Nivel educativo\n        'p209'      # Años de estudio\n    ]\n    \n    print(\"\\n📖 Leyendo módulo 02...\")\n    reader_02 = ENAHOLocalReader(file_path=file_path_02, verbose=False)\n    df_modulo02, validation_02 = reader_02.read_data(columns=columns_02)\n    \n    print(f\"\\n✅ Datos cargados:\")\n    print(f\"   Filas: {len(df_modulo02):,}\")\n    print(f\"   Columnas: {len(df_modulo02.columns)}\")\n    df_modulo02.head()\nelse:\n    print(\"⚠️ No se encontró archivo .dta para módulo 02\")\n    df_modulo02 = None",
   "outputs": [
    {
     "name": "stdout",
     "output_type": "stream",
     "text": [
      "⬇️ Descargando módulo 02...\n",
      "2025-10-17 21:55:28 | INFO     | enaho_downloader | === Iniciando descarga ENAHO corte transversal ===\n",
      "2025-10-17 21:55:28 | INFO     | enaho_downloader | Módulos: ['02']\n",
      "2025-10-17 21:55:28 | INFO     | enaho_downloader | Años: ['2022']\n",
      "2025-10-17 21:55:28 | INFO     | enaho_downloader | Directorio: .enaho_cache\n",
      "2025-10-17 21:55:28 | INFO     | enaho_downloader | Total de descargas programadas: 1\n",
      "2025-10-17 21:55:28 | INFO     | enaho_downloader | Descargando módulo 02 año 2022\n"
     ]
    },
    {
     "name": "stderr",
     "output_type": "stream",
     "text": [
      "Descargando modulo_02_2022.zip: 100%|██████████| 15.6M/15.6M [00:04<00:00, 3.32MiB/s]\n"
     ]
    },
    {
     "name": "stdout",
     "output_type": "stream",
     "text": [
      "2025-10-17 21:55:55 | INFO     | enaho_downloader | Descarga completada: modulo_02_2022.zip (14.9 MB)\n",
      "2025-10-17 21:55:55 | INFO     | enaho_downloader | Extraídos 7 archivos en: .enaho_cache\\modulo_02_2022\n",
      "2025-10-17 21:55:55 | INFO     | enaho_downloader | Archivo ZIP eliminado: modulo_02_2022.zip\n",
      "2025-10-17 21:55:55 | INFO     | enaho_downloader | === Resumen de descarga ===\n",
      "2025-10-17 21:55:55 | INFO     | enaho_downloader | Tareas completadas: 1/1\n",
      "2025-10-17 21:55:55 | INFO     | enaho_downloader | Tasa de éxito: 0.0%\n",
      "2025-10-17 21:55:55 | INFO     | enaho_downloader | Tiempo total: 27.2 segundos\n",
      "2025-10-17 21:55:55 | WARNING  | enaho_downloader | Tareas fallidas: [('2022', '02')]\n",
      "\n",
      "📂 Archivo encontrado: enaho01-2022-200.dta\n",
      "\n",
      "📖 Leyendo módulo 02...\n",
      "2025-10-17 21:55:55 | INFO     | enaho_downloader | Detectado formato de archivo: .dta\n",
      "2025-10-17 21:55:55 | INFO     | enaho_downloader | Usando lector: StataReader\n",
      "2025-10-17 21:55:55 | INFO     | enaho_downloader | Lector inicializado para archivo: .enaho_cache\\modulo_02_2022\\enaho01-2022-200.dta\n",
      "2025-10-17 21:55:56 | INFO     | enaho_downloader | Resultado de validación de columnas:\n",
      "Columnas encontradas: 10\n",
      "Columnas faltantes: 0\n",
      "Mapeos realizados:\n",
      "\n",
      "\n",
      "✅ Datos cargados:\n",
      "   Filas: 121,253\n",
      "   Columnas: 10\n"
     ]
    }
   ],
   "execution_count": 24
  },
  {
   "cell_type": "markdown",
   "metadata": {},
   "source": [
    "### 3.2 Descargar y Leer Módulo 05 (Empleo e Ingresos)"
   ]
  },
  {
   "cell_type": "code",
   "metadata": {
    "ExecuteTime": {
     "end_time": "2025-10-18T02:57:18.247528800Z",
     "start_time": "2025-10-18T02:57:06.776060800Z"
    }
   },
   "source": "# Descargar módulo 05\nmodule_id = \"05\"\n\nprint(f\"⬇️ Descargando módulo {module_id}...\")\ndownloader.download(\n    modules=[module_id],\n    years=[str(year)],\n    output_dir=\".enaho_cache\",\n    decompress=True\n)\n\n# Encontrar archivo .dta del módulo 05\ndta_files_05 = glob.glob(f\".enaho_cache/modulo_05_{year}/*.dta\")\nif dta_files_05:\n    file_path_05 = dta_files_05[0]\n    print(f\"\\n📂 Archivo encontrado: {os.path.basename(file_path_05)}\")\n    \n    # Columnas del módulo 05\n    columns_05 = [\n        'conglome', 'vivienda', 'hogar', 'codperso',  # Identificadores\n        'ocu500',   # Condición de actividad\n        'p506',     # Ocupación principal\n        'p507',     # Categoría ocupacional\n        'i524a1',   # Ingreso por trabajo dependiente\n        'i530a',    # Ingreso por trabajo independiente\n        'p511a'     # Horas trabajadas\n    ]\n    \n    print(\"\\n📖 Leyendo módulo 05...\")\n    reader_05 = ENAHOLocalReader(file_path=file_path_05, verbose=False)\n    df_modulo05, validation_05 = reader_05.read_data(columns=columns_05)\n    \n    print(f\"\\n✅ Datos cargados:\")\n    print(f\"   Filas: {len(df_modulo05):,}\")\n    print(f\"   Columnas: {len(df_modulo05.columns)}\")\n    df_modulo05.head()\nelse:\n    print(\"⚠️ No se encontró archivo .dta para módulo 05\")\n    df_modulo05 = None",
   "outputs": [
    {
     "name": "stdout",
     "output_type": "stream",
     "text": [
      "⬇️ Descargando módulo 05...\n",
      "2025-10-17 21:57:06 | INFO     | enaho_downloader | === Iniciando descarga ENAHO corte transversal ===\n",
      "2025-10-17 21:57:06 | INFO     | enaho_downloader | Módulos: ['05']\n",
      "2025-10-17 21:57:06 | INFO     | enaho_downloader | Años: ['2022']\n",
      "2025-10-17 21:57:06 | INFO     | enaho_downloader | Directorio: .enaho_cache\n",
      "2025-10-17 21:57:06 | INFO     | enaho_downloader | Total de descargas programadas: 1\n",
      "2025-10-17 21:57:06 | INFO     | enaho_downloader | Descargando módulo 05 año 2022\n"
     ]
    },
    {
     "name": "stderr",
     "output_type": "stream",
     "text": [
      "Descargando modulo_05_2022.zip: 100%|██████████| 27.5M/27.5M [00:07<00:00, 3.58MiB/s]\n"
     ]
    },
    {
     "name": "stdout",
     "output_type": "stream",
     "text": [
      "2025-10-17 21:57:15 | INFO     | enaho_downloader | Descarga completada: modulo_05_2022.zip (26.3 MB)\n",
      "2025-10-17 21:57:16 | INFO     | enaho_downloader | Extraídos 9 archivos en: .enaho_cache\\modulo_05_2022\n",
      "2025-10-17 21:57:16 | INFO     | enaho_downloader | Archivo ZIP eliminado: modulo_05_2022.zip\n",
      "2025-10-17 21:57:16 | INFO     | enaho_downloader | === Resumen de descarga ===\n",
      "2025-10-17 21:57:16 | INFO     | enaho_downloader | Tareas completadas: 1/1\n",
      "2025-10-17 21:57:16 | INFO     | enaho_downloader | Tasa de éxito: 0.0%\n",
      "2025-10-17 21:57:16 | INFO     | enaho_downloader | Tiempo total: 9.4 segundos\n",
      "2025-10-17 21:57:16 | WARNING  | enaho_downloader | Tareas fallidas: [('2022', '05')]\n",
      "\n",
      "📂 Archivo encontrado: enaho01a-2022-500.dta\n",
      "\n",
      "📖 Leyendo módulo 05...\n",
      "2025-10-17 21:57:16 | INFO     | enaho_downloader | Detectado formato de archivo: .dta\n",
      "2025-10-17 21:57:16 | INFO     | enaho_downloader | Usando lector: StataReader\n",
      "2025-10-17 21:57:16 | INFO     | enaho_downloader | Lector inicializado para archivo: .enaho_cache\\modulo_05_2022\\enaho01a-2022-500.dta\n",
      "2025-10-17 21:57:16 | INFO     | enaho_downloader | Resultado de validación de columnas:\n",
      "Columnas encontradas: 10\n",
      "Columnas faltantes: 0\n",
      "Mapeos realizados:\n",
      "\n",
      "\n",
      "✅ Datos cargados:\n",
      "   Filas: 87,661\n",
      "   Columnas: 10\n"
     ]
    }
   ],
   "execution_count": 27
  },
  {
   "cell_type": "markdown",
   "metadata": {},
   "source": [
    "## 4. Verificación de Caché\n",
    "\n",
    "### 4.1 Ver Estadísticas de Caché"
   ]
  },
  {
   "cell_type": "code",
   "metadata": {
    "ExecuteTime": {
     "end_time": "2025-10-18T02:57:26.873570700Z",
     "start_time": "2025-10-18T02:57:26.789415200Z"
    }
   },
   "source": "# Obtener estadísticas de caché\ncache_stats = downloader.cache_manager.get_cache_stats()\n\nprint(\"📊 Estadísticas de Caché:\")\nprint(f\"   Archivos en caché: {cache_stats.get('total_files', 0)}\")\nprint(f\"   Tamaño total: {cache_stats.get('total_size_mb', 0):.2f} MB\")\nprint(f\"   Directorio: {downloader.cache_manager.cache_dir}\")",
   "outputs": [
    {
     "name": "stdout",
     "output_type": "stream",
     "text": [
      "📊 Estadísticas de Caché:\n",
      "   Archivos en caché: 0\n",
      "   Tamaño total: 0.00 MB\n",
      "   Directorio: .enaho_cache\n"
     ]
    }
   ],
   "execution_count": 28
  },
  {
   "cell_type": "markdown",
   "metadata": {},
   "source": [
    "## 5. Validación de Datos\n",
    "\n",
    "### 5.1 Verificar Identificadores Únicos a Nivel Hogar"
   ]
  },
  {
   "cell_type": "code",
   "metadata": {
    "ExecuteTime": {
     "end_time": "2025-10-18T02:57:34.215110100Z",
     "start_time": "2025-10-18T02:57:34.108197600Z"
    }
   },
   "source": [
    "# Verificar unicidad de hogares en módulo 01\n",
    "id_cols_hogar = ['conglome', 'vivienda', 'hogar']\n",
    "\n",
    "print(\"🔍 Verificando identificadores únicos a nivel hogar (Módulo 01):\")\n",
    "n_hogares = df_modulo01[id_cols_hogar].drop_duplicates().shape[0]\n",
    "n_filas = df_modulo01.shape[0]\n",
    "\n",
    "print(f\"   Total de filas: {n_filas:,}\")\n",
    "print(f\"   Hogares únicos: {n_hogares:,}\")\n",
    "print(f\"   ✅ Cada fila es un hogar único\" if n_hogares == n_filas else \"⚠️ Hay duplicados\")"
   ],
   "outputs": [
    {
     "name": "stdout",
     "output_type": "stream",
     "text": [
      "🔍 Verificando identificadores únicos a nivel hogar (Módulo 01):\n",
      "   Total de filas: 44,122\n",
      "   Hogares únicos: 44,122\n",
      "   ✅ Cada fila es un hogar único\n"
     ]
    }
   ],
   "execution_count": 29
  },
  {
   "cell_type": "markdown",
   "metadata": {},
   "source": [
    "### 5.2 Verificar Identificadores Únicos a Nivel Persona"
   ]
  },
  {
   "cell_type": "code",
   "metadata": {
    "ExecuteTime": {
     "end_time": "2025-10-18T02:57:52.261183200Z",
     "start_time": "2025-10-18T02:57:52.180119900Z"
    }
   },
   "source": [
    "# Verificar unicidad de personas en módulo 02\n",
    "id_cols_persona = ['conglome', 'vivienda', 'hogar', 'codperso']\n",
    "\n",
    "print(\"🔍 Verificando identificadores únicos a nivel persona (Módulo 02):\")\n",
    "n_personas = df_modulo02[id_cols_persona].drop_duplicates().shape[0]\n",
    "n_filas = df_modulo02.shape[0]\n",
    "\n",
    "print(f\"   Total de filas: {n_filas:,}\")\n",
    "print(f\"   Personas únicas: {n_personas:,}\")\n",
    "print(f\"   ✅ Cada fila es una persona única\" if n_personas == n_filas else \"⚠️ Hay duplicados\")"
   ],
   "outputs": [
    {
     "name": "stdout",
     "output_type": "stream",
     "text": [
      "🔍 Verificando identificadores únicos a nivel persona (Módulo 02):\n",
      "   Total de filas: 121,253\n",
      "   Personas únicas: 121,253\n",
      "   ✅ Cada fila es una persona única\n"
     ]
    }
   ],
   "execution_count": 30
  },
  {
   "cell_type": "markdown",
   "metadata": {},
   "source": [
    "## 6. Resumen de Datos Descargados"
   ]
  },
  {
   "cell_type": "code",
   "metadata": {
    "ExecuteTime": {
     "end_time": "2025-10-18T02:58:00.965911300Z",
     "start_time": "2025-10-18T02:58:00.901011800Z"
    }
   },
   "source": [
    "print(\"=\"*70)\n",
    "print(\"📋 RESUMEN DE DATOS DESCARGADOS\")\n",
    "print(\"=\"*70)\n",
    "\n",
    "print(f\"\\n📅 Año: {year}\")\n",
    "\n",
    "print(f\"\\n📊 DATOS A NIVEL HOGAR:\")\n",
    "print(f\"   Módulo 01 (Vivienda): {len(df_modulo01):,} hogares\")\n",
    "print(f\"   Módulo 34 (Sumaria):  {len(df_modulo34):,} hogares\")\n",
    "\n",
    "print(f\"\\n👥 DATOS A NIVEL PERSONA:\")\n",
    "print(f\"   Módulo 02 (Características): {len(df_modulo02):,} personas\")\n",
    "print(f\"   Módulo 05 (Empleo):          {len(df_modulo05):,} personas\")\n",
    "\n",
    "print(\"\\n✅ Todos los datos han sido descargados y cargados exitosamente!\")\n",
    "print(\"\\n💡 Siguiente paso: Ver tutorial_02_merger.ipynb para combinar estos datos\")"
   ],
   "outputs": [
    {
     "name": "stdout",
     "output_type": "stream",
     "text": [
      "======================================================================\n",
      "📋 RESUMEN DE DATOS DESCARGADOS\n",
      "======================================================================\n",
      "\n",
      "📅 Año: 2022\n",
      "\n",
      "📊 DATOS A NIVEL HOGAR:\n",
      "   Módulo 01 (Vivienda): 44,122 hogares\n",
      "   Módulo 34 (Sumaria):  34,213 hogares\n",
      "\n",
      "👥 DATOS A NIVEL PERSONA:\n",
      "   Módulo 02 (Características): 121,253 personas\n",
      "   Módulo 05 (Empleo):          87,661 personas\n",
      "\n",
      "✅ Todos los datos han sido descargados y cargados exitosamente!\n",
      "\n",
      "💡 Siguiente paso: Ver tutorial_02_merger.ipynb para combinar estos datos\n"
     ]
    }
   ],
   "execution_count": 31
  },
  {
   "cell_type": "markdown",
   "metadata": {},
   "source": [
    "## Conclusiones\n",
    "\n",
    "En este tutorial aprendiste a:\n",
    "\n",
    "1. ✅ Inicializar el `ENAHODataDownloader` con caché\n",
    "2. ✅ Consultar años y módulos disponibles\n",
    "3. ✅ Descargar datos ENAHO directamente desde el INEI\n",
    "4. ✅ Leer archivos con selección de columnas específicas\n",
    "5. ✅ Trabajar con datos a nivel hogar y persona\n",
    "6. ✅ Validar la estructura de los datos\n",
    "7. ✅ Monitorear el uso del caché\n",
    "\n",
    "### Próximos Pasos\n",
    "\n",
    "- **Tutorial 02**: Combinar módulos con el módulo `merger`\n",
    "- **Tutorial 03**: Analizar datos faltantes con `null_analysis`\n",
    "- **Tutorial 04**: Pipeline completo de análisis"
   ]
  }
 ],
 "metadata": {
  "kernelspec": {
   "display_name": "Python 3",
   "language": "python",
   "name": "python3"
  },
  "language_info": {
   "codemirror_mode": {
    "name": "ipython",
    "version": 3
   },
   "file_extension": ".py",
   "mimetype": "text/x-python",
   "name": "python",
   "nbconvert_exporter": "python",
   "pygments_lexer": "ipython3",
   "version": "3.8.0"
  }
 },
 "nbformat": 4,
 "nbformat_minor": 4
}
