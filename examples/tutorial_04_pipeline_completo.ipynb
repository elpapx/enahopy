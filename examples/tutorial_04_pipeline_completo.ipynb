{
 "cells": [
  {
   "cell_type": "markdown",
   "id": "cell-0",
   "metadata": {},
   "source": [
    "# Tutorial 04: Pipeline Completo - Análisis de Pobreza con enahopy\n",
    "\n",
    "Este tutorial integra los tres módulos principales de enahopy en un análisis completo:\n",
    "- **Loader**: Descarga y carga de datos ENAHO\n",
    "- **Merger**: Combinación de múltiples módulos\n",
    "- **Null Analysis**: Análisis de calidad de datos\n",
    "\n",
    "## Objetivo del Análisis\n",
    "\n",
    "Realizar un análisis de pobreza multidimensional que responda:\n",
    "1. ¿Cuál es la relación entre características de vivienda y pobreza?\n",
    "2. ¿Cómo se relaciona el empleo con la condición de pobreza?\n",
    "3. ¿Qué tan completos son los datos para este análisis?\n",
    "4. ¿Cuáles son las principales inequidades a nivel geográfico?\n",
    "\n",
    "## Pipeline End-to-End\n",
    "\n",
    "```\n",
    "1. LOADER → Descargar datos (módulos 01, 02, 05, 34)\n",
    "           ↓\n",
    "2. MERGER → Combinar a nivel hogar y persona\n",
    "           ↓\n",
    "3. NULL ANALYSIS → Evaluar calidad de datos\n",
    "           ↓\n",
    "4. ANÁLISIS → Poverty insights\n",
    "           ↓\n",
    "5. EXPORT → Resultados y reportes\n",
    "```"
   ]
  },
  {
   "cell_type": "code",
   "id": "cell-1",
   "metadata": {
    "ExecuteTime": {
     "end_time": "2025-10-20T03:51:29.007978500Z",
     "start_time": "2025-10-20T03:51:02.816411900Z"
    }
   },
   "source": [
    "# Instalación (si es necesario)\n",
    "# !pip install enahopy\n",
    "\n",
    "import enahopy\n",
    "from enahopy.loader import ENAHODataDownloader\n",
    "from enahopy.loader.io import ENAHOLocalReader\n",
    "from enahopy.merger import ENAHOModuleMerger\n",
    "from enahopy.null_analysis import ENAHONullAnalyzer\n",
    "import pandas as pd\n",
    "import numpy as np\n",
    "from datetime import datetime\n",
    "import warnings\n",
    "warnings.filterwarnings('ignore')\n",
    "\n",
    "print(f\"enahopy versión: {enahopy.__version__}\")\n",
    "print(f\"Inicio del análisis: {datetime.now().strftime('%Y-%m-%d %H:%M:%S')}\")"
   ],
   "outputs": [
    {
     "name": "stdout",
     "output_type": "stream",
     "text": [
      "enahopy versión: 0.6.0\n",
      "Inicio del análisis: 2025-10-19 22:51:28\n"
     ]
    }
   ],
   "execution_count": 1
  },
  {
   "cell_type": "markdown",
   "id": "cell-2",
   "metadata": {},
   "source": [
    "## FASE 1: LOADER - Descarga y Carga de Datos\n",
    "\n",
    "### 1.1 Configurar Descargador"
   ]
  },
  {
   "cell_type": "code",
   "execution_count": null,
   "id": "cell-3",
   "metadata": {},
   "outputs": [],
   "source": [
    "# Configuración\n",
    "year = 202\n",
    "cache_dir = \".enaho_cache\"\n",
    "\n",
    "# Inicializar downloader\n",
    "downloader = ENAHODataDownloader(\n",
    "    cache_dir=cache_dir,\n",
    "    use_cache=True,\n",
    "    verbose=True\n",
    ")\n",
    "\n",
    "# Inicializar reader\n",
    "reader = ENAHOLocalReader(\n",
    "    cache_dir=cache_dir,\n",
    "    verbose=False\n",
    ")\n",
    "\n",
    "print(f\"\\n✅ Configuración completada\")\n",
    "print(f\"   Año de análisis: {year}\")\n",
    "print(f\"   Directorio de caché: {cache_dir}\")"
   ]
  },
  {
   "cell_type": "markdown",
   "id": "cell-4",
   "metadata": {},
   "source": [
    "### 1.2 Descargar Módulos Necesarios"
   ]
  },
  {
   "cell_type": "code",
   "execution_count": null,
   "id": "cell-5",
   "metadata": {},
   "outputs": [],
   "source": [
    "# Módulos a descargar\n",
    "modules_to_download = {\n",
    "    \"01\": \"Características de Vivienda y Hogar\",\n",
    "    \"02\": \"Características de Miembros del Hogar\",\n",
    "    \"05\": \"Empleo e Ingresos\",\n",
    "    \"34\": \"Sumaria (Variables Calculadas)\"\n",
    "}\n",
    "\n",
    "print(\"⬇️ Descargando módulos ENAHO...\\n\")\n",
    "\n",
    "for module_id, description in modules_to_download.items():\n",
    "    print(f\"   Módulo {module_id}: {description}\")\n",
    "    downloader.download(\n",
    "        year=year,\n",
    "        module_id=module_id,\n",
    "        extract=True\n",
    "    )\n",
    "\n",
    "print(\"\\n✅ Todos los módulos descargados exitosamente\")"
   ]
  },
  {
   "cell_type": "markdown",
   "id": "cell-6",
   "metadata": {},
   "source": [
    "### 1.3 Cargar Datos con Columnas Específicas\n",
    "\n",
    "#### Módulo 34 - Sumaria (Base del análisis de pobreza)"
   ]
  },
  {
   "cell_type": "code",
   "execution_count": null,
   "id": "cell-7",
   "metadata": {},
   "outputs": [],
   "source": [
    "# Columnas clave del módulo 34\n",
    "cols_sumaria = [\n",
    "    # Identificadores\n",
    "    'conglome', 'vivienda', 'hogar',\n",
    "    # Geográficas\n",
    "    'ubigeo', 'dominio', 'estrato',\n",
    "    # Household composition\n",
    "    'mieperho',  # Número de miembros\n",
    "    # Económicas\n",
    "    'gashog2d',  # Gasto total del hogar\n",
    "    'inghog2d',  # Ingreso total del hogar\n",
    "    'linpe',     # Línea de pobreza extrema\n",
    "    'linea',     # Línea de pobreza\n",
    "    'pobreza',   # Condición de pobreza (1=pobre extremo, 2=pobre, 3=no pobre)\n",
    "    # Ponderadores\n",
    "    'factor07'   # Factor de expansión\n",
    "]\n",
    "\n",
    "print(\"📖 Cargando Módulo 34 (Sumaria)...\")\n",
    "df_sumaria = reader.read_file(\n",
    "    year=year,\n",
    "    module_id=\"34\",\n",
    "    columns=cols_sumaria,\n",
    "    validate_columns=True\n",
    ")\n",
    "\n",
    "print(f\"   Shape: {df_sumaria.shape}\")\n",
    "print(f\"   Hogares: {len(df_sumaria):,}\")"
   ]
  },
  {
   "cell_type": "markdown",
   "id": "cell-8",
   "metadata": {},
   "source": [
    "#### Módulo 01 - Características de Vivienda"
   ]
  },
  {
   "cell_type": "code",
   "execution_count": null,
   "id": "cell-9",
   "metadata": {},
   "outputs": [],
   "source": [
    "# Columnas clave del módulo 01\n",
    "cols_vivienda = [\n",
    "    # Identificadores\n",
    "    'conglome', 'vivienda', 'hogar',\n",
    "    # Tipo de vivienda\n",
    "    'p101',    # Tipo de vivienda\n",
    "    # Materiales\n",
    "    'p102',    # Material predominante en paredes\n",
    "    'p103',    # Material predominante en pisos\n",
    "    'p103a',   # Material predominante en techos\n",
    "    # Servicios\n",
    "    'p110',    # Abastecimiento de agua\n",
    "    'p111',    # Servicios higiénicos\n",
    "    'p112',    # Alumbrado eléctrico\n",
    "    # Habitaciones\n",
    "    'p104',    # Número de habitaciones\n",
    "    'p105a',   # Habitaciones para dormir\n",
    "]\n",
    "\n",
    "print(\"📖 Cargando Módulo 01 (Vivienda)...\")\n",
    "df_vivienda = reader.read_file(\n",
    "    year=year,\n",
    "    module_id=\"01\",\n",
    "    columns=cols_vivienda,\n",
    "    validate_columns=True\n",
    ")\n",
    "\n",
    "print(f\"   Shape: {df_vivienda.shape}\")\n",
    "print(f\"   Hogares: {len(df_vivienda):,}\")"
   ]
  },
  {
   "cell_type": "markdown",
   "id": "cell-10",
   "metadata": {},
   "source": [
    "#### Módulo 02 - Características de Personas"
   ]
  },
  {
   "cell_type": "code",
   "execution_count": null,
   "id": "cell-11",
   "metadata": {},
   "outputs": [],
   "source": [
    "# Columnas clave del módulo 02\n",
    "cols_personas = [\n",
    "    # Identificadores\n",
    "    'conglome', 'vivienda', 'hogar', 'codperso',\n",
    "    # Demográficas\n",
    "    'p203',     # Parentesco con jefe\n",
    "    'p204',     # Sexo\n",
    "    'p205',     # Edad\n",
    "    'p206',     # Estado civil\n",
    "    # Educación\n",
    "    'p208a',    # Nivel educativo alcanzado\n",
    "    'p209',     # Años de estudio\n",
    "    'p210',     # Sabe leer y escribir\n",
    "]\n",
    "\n",
    "print(\"📖 Cargando Módulo 02 (Personas)...\")\n",
    "df_personas = reader.read_file(\n",
    "    year=year,\n",
    "    module_id=\"02\",\n",
    "    columns=cols_personas,\n",
    "    validate_columns=True\n",
    ")\n",
    "\n",
    "print(f\"   Shape: {df_personas.shape}\")\n",
    "print(f\"   Personas: {len(df_personas):,}\")"
   ]
  },
  {
   "cell_type": "markdown",
   "id": "cell-12",
   "metadata": {},
   "source": [
    "#### Módulo 05 - Empleo e Ingresos"
   ]
  },
  {
   "cell_type": "code",
   "execution_count": null,
   "id": "cell-13",
   "metadata": {},
   "outputs": [],
   "source": [
    "# Columnas clave del módulo 05\n",
    "cols_empleo = [\n",
    "    # Identificadores\n",
    "    'conglome', 'vivienda', 'hogar', 'codperso',\n",
    "    # Condición laboral\n",
    "    'ocu500',   # Condición de actividad\n",
    "    # Ocupación\n",
    "    'p506',     # Ocupación principal\n",
    "    'p507',     # Categoría ocupacional\n",
    "    # Ingresos\n",
    "    'i524a1',   # Ingreso por trabajo dependiente\n",
    "    'i530a',    # Ingreso por trabajo independiente\n",
    "    # Horas\n",
    "    'p511a',    # Horas trabajadas semana pasada\n",
    "]\n",
    "\n",
    "print(\"📖 Cargando Módulo 05 (Empleo)...\")\n",
    "df_empleo = reader.read_file(\n",
    "    year=year,\n",
    "    module_id=\"05\",\n",
    "    columns=cols_empleo,\n",
    "    validate_columns=True\n",
    ")\n",
    "\n",
    "print(f\"   Shape: {df_empleo.shape}\")\n",
    "print(f\"   Personas: {len(df_empleo):,}\")"
   ]
  },
  {
   "cell_type": "markdown",
   "id": "cell-14",
   "metadata": {},
   "source": [
    "## FASE 2: MERGER - Combinación de Módulos\n",
    "\n",
    "### 2.1 Inicializar Merger"
   ]
  },
  {
   "cell_type": "code",
   "execution_count": null,
   "id": "cell-15",
   "metadata": {},
   "outputs": [],
   "source": [
    "# Inicializar merger\n",
    "merger = ENAHOModuleMerger(verbose=True)\n",
    "\n",
    "print(\"✅ ENAHOModuleMerger inicializado\")"
   ]
  },
  {
   "cell_type": "markdown",
   "id": "cell-16",
   "metadata": {},
   "source": [
    "### 2.2 Merge a Nivel Hogar: Sumaria + Vivienda"
   ]
  },
  {
   "cell_type": "code",
   "execution_count": null,
   "id": "cell-17",
   "metadata": {},
   "outputs": [],
   "source": [
    "print(\"🔗 Combinando datos a nivel HOGAR (Sumaria + Vivienda)...\\n\")\n",
    "\n",
    "# Preparar módulos\n",
    "modulos_hogar = {\n",
    "    'sumaria': df_sumaria,\n",
    "    'vivienda': df_vivienda\n",
    "}\n",
    "\n",
    "# Realizar merge\n",
    "resultado_hogar = merger.merge_modules(\n",
    "    modules_dict=modulos_hogar,\n",
    "    merge_level='hogar',\n",
    "    how='inner',\n",
    "    validate_keys=True\n",
    ")\n",
    "\n",
    "df_hogar_completo = resultado_hogar.merged_df\n",
    "\n",
    "print(f\"\\n✅ Merge a nivel hogar completado\")\n",
    "print(f\"   Shape final: {df_hogar_completo.shape}\")\n",
    "print(f\"   Hogares: {len(df_hogar_completo):,}\")\n",
    "print(f\"   Columnas: {len(df_hogar_completo.columns)}\")"
   ]
  },
  {
   "cell_type": "markdown",
   "id": "cell-18",
   "metadata": {},
   "source": [
    "### 2.3 Merge a Nivel Persona: Características + Empleo"
   ]
  },
  {
   "cell_type": "code",
   "execution_count": null,
   "id": "cell-19",
   "metadata": {},
   "outputs": [],
   "source": [
    "print(\"🔗 Combinando datos a nivel PERSONA (Características + Empleo)...\\n\")\n",
    "\n",
    "# Preparar módulos\n",
    "modulos_persona = {\n",
    "    'personas': df_personas,\n",
    "    'empleo': df_empleo\n",
    "}\n",
    "\n",
    "# Realizar merge\n",
    "resultado_persona = merger.merge_modules(\n",
    "    modules_dict=modulos_persona,\n",
    "    merge_level='persona',\n",
    "    how='left',  # Left join para mantener todas las personas\n",
    "    validate_keys=True\n",
    ")\n",
    "\n",
    "df_persona_completo = resultado_persona.merged_df\n",
    "\n",
    "print(f\"\\n✅ Merge a nivel persona completado\")\n",
    "print(f\"   Shape final: {df_persona_completo.shape}\")\n",
    "print(f\"   Personas: {len(df_persona_completo):,}\")\n",
    "print(f\"   Columnas: {len(df_persona_completo.columns)}\")"
   ]
  },
  {
   "cell_type": "markdown",
   "id": "cell-20",
   "metadata": {},
   "source": [
    "### 2.4 Merge Multi-Nivel: Persona + Hogar"
   ]
  },
  {
   "cell_type": "code",
   "execution_count": null,
   "id": "cell-21",
   "metadata": {},
   "outputs": [],
   "source": [
    "print(\"🔗 Combinando datos PERSONA + HOGAR...\\n\")\n",
    "\n",
    "# Merge persona con hogar\n",
    "id_cols_hogar = ['conglome', 'vivienda', 'hogar']\n",
    "\n",
    "df_final = df_persona_completo.merge(\n",
    "    df_hogar_completo,\n",
    "    on=id_cols_hogar,\n",
    "    how='left',\n",
    "    suffixes=('_persona', '_hogar')\n",
    ")\n",
    "\n",
    "print(f\"✅ Dataset final creado\")\n",
    "print(f\"   Shape: {df_final.shape}\")\n",
    "print(f\"   Personas: {len(df_final):,}\")\n",
    "print(f\"   Hogares únicos: {df_final[id_cols_hogar].drop_duplicates().shape[0]:,}\")\n",
    "print(f\"   Columnas totales: {len(df_final.columns)}\")"
   ]
  },
  {
   "cell_type": "markdown",
   "id": "cell-22",
   "metadata": {},
   "source": [
    "## FASE 3: NULL ANALYSIS - Evaluación de Calidad\n",
    "\n",
    "### 3.1 Analizar Dataset de Hogares"
   ]
  },
  {
   "cell_type": "code",
   "execution_count": null,
   "id": "cell-23",
   "metadata": {},
   "outputs": [],
   "source": [
    "print(\"🔍 Analizando calidad de datos - HOGARES\\n\")\n",
    "\n",
    "# Inicializar analizador\n",
    "analyzer = ENAHONullAnalyzer(verbose=False)\n",
    "\n",
    "# Analizar dataset de hogares\n",
    "result_hogar = analyzer.analyze(df_hogar_completo)\n",
    "report_hogar = analyzer.generate_report(df_hogar_completo, format='dict')\n",
    "\n",
    "# Estadísticas de nulos\n",
    "null_rate_hogar = df_hogar_completo.isnull().sum().sum() / (df_hogar_completo.shape[0] * df_hogar_completo.shape[1]) * 100\n",
    "\n",
    "print(f\"📊 Calidad de Datos - HOGARES:\")\n",
    "print(f\"   Tasa de nulos: {null_rate_hogar:.2f}%\")\n",
    "print(f\"   Patrones detectados: {len(result_hogar.patterns)}\")\n",
    "print(f\"   Recomendaciones: {len(result_hogar.recommendations)}\")\n",
    "\n",
    "# Top columnas con nulos\n",
    "null_pcts_hogar = (df_hogar_completo.isnull().sum() / len(df_hogar_completo) * 100).sort_values(ascending=False)\n",
    "print(f\"\\n   Top 5 columnas con nulos:\")\n",
    "for col, pct in null_pcts_hogar.head(5).items():\n",
    "    if pct > 0:\n",
    "        print(f\"     - {col}: {pct:.2f}%\")"
   ]
  },
  {
   "cell_type": "markdown",
   "id": "cell-24",
   "metadata": {},
   "source": [
    "### 3.2 Analizar Dataset Final (Persona + Hogar)"
   ]
  },
  {
   "cell_type": "code",
   "execution_count": null,
   "id": "cell-25",
   "metadata": {},
   "outputs": [],
   "source": [
    "print(\"🔍 Analizando calidad de datos - DATASET FINAL\\n\")\n",
    "\n",
    "# Analizar dataset final\n",
    "result_final = analyzer.analyze(df_final)\n",
    "report_final = analyzer.generate_report(df_final, format='dict')\n",
    "\n",
    "# Estadísticas de nulos\n",
    "null_rate_final = df_final.isnull().sum().sum() / (df_final.shape[0] * df_final.shape[1]) * 100\n",
    "\n",
    "print(f\"📊 Calidad de Datos - DATASET FINAL:\")\n",
    "print(f\"   Tasa de nulos: {null_rate_final:.2f}%\")\n",
    "print(f\"   Patrones detectados: {len(result_final.patterns)}\")\n",
    "print(f\"   Recomendaciones: {len(result_final.recommendations)}\")\n",
    "\n",
    "# Filas completas\n",
    "complete_rows = df_final.dropna(how='any')\n",
    "complete_pct = len(complete_rows) / len(df_final) * 100\n",
    "print(f\"\\n   Filas completas (sin nulos): {len(complete_rows):,} ({complete_pct:.2f}%)\")"
   ]
  },
  {
   "cell_type": "markdown",
   "id": "cell-26",
   "metadata": {},
   "source": [
    "## FASE 4: ANÁLISIS - Poverty Insights\n",
    "\n",
    "### 4.1 Distribución de Pobreza"
   ]
  },
  {
   "cell_type": "code",
   "execution_count": null,
   "id": "cell-27",
   "metadata": {},
   "outputs": [],
   "source": [
    "print(\"=\"*70)\n",
    "print(\"📊 ANÁLISIS DE POBREZA - RESULTADOS\")\n",
    "print(\"=\"*70)\n",
    "\n",
    "# Distribución de pobreza\n",
    "print(\"\\n1. DISTRIBUCIÓN DE POBREZA (a nivel hogar)\\n\")\n",
    "\n",
    "pobreza_dist = df_hogar_completo['pobreza'].value_counts().sort_index()\n",
    "pobreza_pct = (pobreza_dist / pobreza_dist.sum() * 100)\n",
    "\n",
    "categorias_pobreza = {\n",
    "    1: 'Pobre extremo',\n",
    "    2: 'Pobre no extremo',\n",
    "    3: 'No pobre'\n",
    "}\n",
    "\n",
    "for cat, count in pobreza_dist.items():\n",
    "    nombre = categorias_pobreza.get(cat, f'Categoría {cat}')\n",
    "    pct = pobreza_pct[cat]\n",
    "    print(f\"   {nombre:20s}: {count:6,} hogares ({pct:5.2f}%)\")\n",
    "\n",
    "total_pobres = pobreza_dist[pobreza_dist.index.isin([1, 2])].sum()\n",
    "pct_pobres = (total_pobres / pobreza_dist.sum() * 100)\n",
    "print(f\"\\n   TOTAL POBRES: {total_pobres:,} hogares ({pct_pobres:.2f}%)\")"
   ]
  },
  {
   "cell_type": "markdown",
   "id": "cell-28",
   "metadata": {},
   "source": [
    "### 4.2 Pobreza y Características de Vivienda"
   ]
  },
  {
   "cell_type": "code",
   "execution_count": null,
   "id": "cell-29",
   "metadata": {},
   "outputs": [],
   "source": [
    "print(\"\\n2. POBREZA Y ACCESO A SERVICIOS BÁSICOS\\n\")\n",
    "\n",
    "# Crear categoría binaria de pobreza\n",
    "df_hogar_completo['es_pobre'] = df_hogar_completo['pobreza'].isin([1, 2])\n",
    "\n",
    "# Análisis de alumbrado eléctrico (p112)\n",
    "if 'p112' in df_hogar_completo.columns:\n",
    "    tiene_luz = df_hogar_completo.groupby('es_pobre')['p112'].apply(\n",
    "        lambda x: (x == 1).sum() / len(x) * 100\n",
    "    )\n",
    "    \n",
    "    print(\"   Acceso a alumbrado eléctrico:\")\n",
    "    print(f\"     - Hogares pobres:    {tiene_luz[True]:.1f}%\")\n",
    "    print(f\"     - Hogares no pobres: {tiene_luz[False]:.1f}%\")\n",
    "    print(f\"     - Brecha:            {tiene_luz[False] - tiene_luz[True]:.1f} puntos porcentuales\")\n",
    "\n",
    "# Análisis de agua (p110)\n",
    "if 'p110' in df_hogar_completo.columns:\n",
    "    tiene_agua = df_hogar_completo.groupby('es_pobre')['p110'].apply(\n",
    "        lambda x: (x.isin([1, 2, 3])).sum() / len(x) * 100  # Red pública dentro/fuera/pilón\n",
    "    )\n",
    "    \n",
    "    print(\"\\n   Acceso a agua por red pública:\")\n",
    "    print(f\"     - Hogares pobres:    {tiene_agua[True]:.1f}%\")\n",
    "    print(f\"     - Hogares no pobres: {tiene_agua[False]:.1f}%\")\n",
    "    print(f\"     - Brecha:            {tiene_agua[False] - tiene_agua[True]:.1f} puntos porcentuales\")"
   ]
  },
  {
   "cell_type": "markdown",
   "id": "cell-30",
   "metadata": {},
   "source": [
    "### 4.3 Pobreza y Empleo"
   ]
  },
  {
   "cell_type": "code",
   "execution_count": null,
   "id": "cell-31",
   "metadata": {},
   "outputs": [],
   "source": [
    "print(\"\\n3. POBREZA Y EMPLEO (a nivel persona)\\n\")\n",
    "\n",
    "# Agregar indicador de pobreza al dataset de personas\n",
    "df_final['es_pobre'] = df_final['pobreza'].isin([1, 2])\n",
    "\n",
    "# Filtrar población en edad de trabajar (14+ años)\n",
    "df_pet = df_final[df_final['p205'] >= 14].copy()\n",
    "\n",
    "print(f\"   Población en edad de trabajar: {len(df_pet):,} personas\")\n",
    "\n",
    "# Tasa de ocupación por condición de pobreza\n",
    "if 'ocu500' in df_pet.columns:\n",
    "    ocupacion = df_pet.groupby('es_pobre')['ocu500'].apply(\n",
    "        lambda x: (x == 1).sum() / len(x) * 100  # ocu500=1 es ocupado\n",
    "    )\n",
    "    \n",
    "    print(\"\\n   Tasa de ocupación:\")\n",
    "    print(f\"     - Población pobre:     {ocupacion[True]:.1f}%\")\n",
    "    print(f\"     - Población no pobre:  {ocupacion[False]:.1f}%\")\n",
    "\n",
    "# Horas trabajadas promedio\n",
    "if 'p511a' in df_pet.columns:\n",
    "    horas_prom = df_pet[df_pet['ocu500'] == 1].groupby('es_pobre')['p511a'].mean()\n",
    "    \n",
    "    print(\"\\n   Horas trabajadas/semana (ocupados):\")\n",
    "    print(f\"     - Población pobre:     {horas_prom[True]:.1f} horas\")\n",
    "    print(f\"     - Población no pobre:  {horas_prom[False]:.1f} horas\")"
   ]
  },
  {
   "cell_type": "markdown",
   "id": "cell-32",
   "metadata": {},
   "source": [
    "### 4.4 Análisis Geográfico"
   ]
  },
  {
   "cell_type": "code",
   "execution_count": null,
   "id": "cell-33",
   "metadata": {},
   "outputs": [],
   "source": [
    "print(\"\\n4. DISTRIBUCIÓN GEOGRÁFICA DE LA POBREZA\\n\")\n",
    "\n",
    "# Analizar por dominio geográfico\n",
    "if 'dominio' in df_hogar_completo.columns:\n",
    "    pobreza_dominio = df_hogar_completo.groupby('dominio').agg({\n",
    "        'es_pobre': ['sum', 'count', 'mean']\n",
    "    })\n",
    "    \n",
    "    pobreza_dominio.columns = ['pobres', 'total', 'tasa_pobreza']\n",
    "    pobreza_dominio['tasa_pobreza'] = pobreza_dominio['tasa_pobreza'] * 100\n",
    "    pobreza_dominio = pobreza_dominio.sort_values('tasa_pobreza', ascending=False)\n",
    "    \n",
    "    print(\"   Top 5 dominios con mayor tasa de pobreza:\")\n",
    "    for dominio, row in pobreza_dominio.head(5).iterrows():\n",
    "        print(f\"     Dominio {dominio}: {row['tasa_pobreza']:.1f}% ({row['pobres']:.0f}/{row['total']:.0f} hogares)\")"
   ]
  },
  {
   "cell_type": "markdown",
   "id": "cell-34",
   "metadata": {},
   "source": [
    "### 4.5 Resumen de Hallazgos Clave"
   ]
  },
  {
   "cell_type": "code",
   "execution_count": null,
   "id": "cell-35",
   "metadata": {},
   "outputs": [],
   "source": [
    "print(\"\\n\" + \"=\"*70)\n",
    "print(\"💡 HALLAZGOS CLAVE DEL ANÁLISIS\")\n",
    "print(\"=\"*70)\n",
    "\n",
    "print(\"\"\"\n",
    "1. MAGNITUD DE LA POBREZA\n",
    "   - Se identificó el porcentaje de hogares en situación de pobreza\n",
    "   - Distinción entre pobreza extrema y no extrema\n",
    "\n",
    "2. INEQUIDAD EN SERVICIOS BÁSICOS\n",
    "   - Brechas significativas en acceso a electricidad y agua\n",
    "   - Los hogares pobres tienen menor acceso a servicios\n",
    "\n",
    "3. EMPLEO Y POBREZA\n",
    "   - Diferencias en tasas de ocupación entre pobres y no pobres\n",
    "   - Variación en horas trabajadas según condición de pobreza\n",
    "\n",
    "4. DIMENSIÓN GEOGRÁFICA\n",
    "   - Heterogeneidad territorial en tasas de pobreza\n",
    "   - Identificación de dominios con mayores desafíos\n",
    "\n",
    "5. CALIDAD DE DATOS\n",
    "   - Dataset integrado exitosamente con múltiples módulos\n",
    "   - Análisis de valores faltantes completado\n",
    "   - Datos aptos para análisis multidimensional\n",
    "\"\"\")\n",
    "\n",
    "print(\"=\"*70)"
   ]
  },
  {
   "cell_type": "markdown",
   "id": "cell-36",
   "metadata": {},
   "source": [
    "## FASE 5: EXPORT - Guardar Resultados\n",
    "\n",
    "### 5.1 Exportar Datasets Procesados"
   ]
  },
  {
   "cell_type": "code",
   "execution_count": null,
   "id": "cell-37",
   "metadata": {},
   "outputs": [],
   "source": [
    "import os\n",
    "\n",
    "# Crear directorio de salida\n",
    "output_dir = \"output\"\n",
    "os.makedirs(output_dir, exist_ok=True)\n",
    "\n",
    "print(\"💾 Exportando resultados...\\n\")\n",
    "\n",
    "# Exportar dataset de hogares\n",
    "output_file_hogar = os.path.join(output_dir, f\"enaho_{year}_hogares_merged.csv\")\n",
    "df_hogar_completo.to_csv(output_file_hogar, index=False)\n",
    "print(f\"   ✅ Hogares: {output_file_hogar}\")\n",
    "\n",
    "# Exportar dataset final\n",
    "output_file_final = os.path.join(output_dir, f\"enaho_{year}_final_merged.csv\")\n",
    "df_final.to_csv(output_file_final, index=False)\n",
    "print(f\"   ✅ Dataset final: {output_file_final}\")\n",
    "\n",
    "print(f\"\\n✅ Archivos exportados en: {output_dir}/\")"
   ]
  },
  {
   "cell_type": "markdown",
   "id": "cell-38",
   "metadata": {},
   "source": [
    "### 5.2 Generar Reporte de Calidad"
   ]
  },
  {
   "cell_type": "code",
   "execution_count": null,
   "id": "cell-39",
   "metadata": {},
   "outputs": [],
   "source": [
    "# Crear reporte de calidad\n",
    "reporte_calidad = f\"\"\"\n",
    "{'='*70}\n",
    "REPORTE DE CALIDAD DE DATOS - ENAHO {year}\n",
    "{'='*70}\n",
    "\n",
    "Fecha de generación: {datetime.now().strftime('%Y-%m-%d %H:%M:%S')}\n",
    "\n",
    "DATASETS PROCESADOS:\n",
    "-------------------\n",
    "1. Módulo 34 (Sumaria):          {len(df_sumaria):,} hogares\n",
    "2. Módulo 01 (Vivienda):         {len(df_vivienda):,} hogares\n",
    "3. Módulo 02 (Personas):         {len(df_personas):,} personas\n",
    "4. Módulo 05 (Empleo):           {len(df_empleo):,} personas\n",
    "\n",
    "DATASETS COMBINADOS:\n",
    "-------------------\n",
    "1. Hogares (Sumaria + Vivienda): {len(df_hogar_completo):,} hogares, {len(df_hogar_completo.columns)} columnas\n",
    "2. Personas (Caract. + Empleo):  {len(df_persona_completo):,} personas, {len(df_persona_completo.columns)} columnas\n",
    "3. Final (Persona + Hogar):      {len(df_final):,} registros, {len(df_final.columns)} columnas\n",
    "\n",
    "CALIDAD DE DATOS:\n",
    "----------------\n",
    "Dataset de Hogares:\n",
    "  - Tasa de nulos: {null_rate_hogar:.2f}%\n",
    "  - Patrones detectados: {len(result_hogar.patterns)}\n",
    "\n",
    "Dataset Final:\n",
    "  - Tasa de nulos: {null_rate_final:.2f}%\n",
    "  - Filas completas: {len(complete_rows):,} ({complete_pct:.2f}%)\n",
    "  - Patrones detectados: {len(result_final.patterns)}\n",
    "\n",
    "ESTADÍSTICAS DE POBREZA:\n",
    "-----------------------\n",
    "Total de hogares pobres: {total_pobres:,} ({pct_pobres:.2f}%)\n",
    "  - Pobre extremo: {pobreza_dist.get(1, 0):,}\n",
    "  - Pobre no extremo: {pobreza_dist.get(2, 0):,}\n",
    "  - No pobre: {pobreza_dist.get(3, 0):,}\n",
    "\n",
    "{'='*70}\n",
    "\"\"\"\n",
    "\n",
    "# Guardar reporte\n",
    "reporte_file = os.path.join(output_dir, f\"reporte_calidad_{year}.txt\")\n",
    "with open(reporte_file, 'w', encoding='utf-8') as f:\n",
    "    f.write(reporte_calidad)\n",
    "\n",
    "print(f\"📄 Reporte de calidad: {reporte_file}\")\n",
    "print(reporte_calidad)"
   ]
  },
  {
   "cell_type": "markdown",
   "id": "cell-40",
   "metadata": {},
   "source": [
    "## Conclusiones del Tutorial\n",
    "\n",
    "### Lo que aprendiste:\n",
    "\n",
    "1. ✅ **LOADER**: Descargar y cargar múltiples módulos ENAHO con columnas específicas\n",
    "2. ✅ **MERGER**: Combinar datos a nivel hogar, persona y multi-nivel\n",
    "3. ✅ **NULL ANALYSIS**: Evaluar calidad de datos en cada etapa del pipeline\n",
    "4. ✅ **ANÁLISIS**: Realizar análisis multidimensional de pobreza\n",
    "5. ✅ **EXPORT**: Guardar resultados y generar reportes\n",
    "\n",
    "### Mejores Prácticas Demostradas:\n",
    "\n",
    "- **Planificación**: Definir variables clave antes de cargar datos\n",
    "- **Incremental**: Construir dataset paso a paso (hogar → persona → final)\n",
    "- **Validación**: Verificar calidad en cada etapa del merge\n",
    "- **Documentación**: Generar reportes automáticos de calidad\n",
    "- **Reproducibilidad**: Pipeline completo ejecutable de principio a fin\n",
    "\n",
    "### Próximos Pasos:\n",
    "\n",
    "1. **Análisis avanzados**: Modelos de regresión, clustering, etc.\n",
    "2. **Visualizaciones**: Crear gráficos interactivos de resultados\n",
    "3. **Automatización**: Convertir este pipeline en un script reutilizable\n",
    "4. **Comparación temporal**: Analizar múltiples años (2018-2022)\n",
    "5. **Machine Learning**: Predecir pobreza con características observables\n",
    "\n",
    "### Recursos Adicionales:\n",
    "\n",
    "- Documentación: https://enahopy.readthedocs.io\n",
    "- Ejemplos: https://github.com/elpapx/enahopy/tree/main/examples\n",
    "- Issues: https://github.com/elpapx/enahopy/issues\n",
    "\n",
    "---\n",
    "\n",
    "**¡Felicitaciones! Has completado el pipeline completo de análisis con enahopy.**"
   ]
  }
 ],
 "metadata": {
  "kernelspec": {
   "display_name": "Python 3",
   "language": "python",
   "name": "python3"
  },
  "language_info": {
   "codemirror_mode": {
    "name": "ipython",
    "version": 3
   },
   "file_extension": ".py",
   "mimetype": "text/x-python",
   "name": "python",
   "nbconvert_exporter": "python",
   "pygments_lexer": "ipython3",
   "version": "3.8.0"
  }
 },
 "nbformat": 4,
 "nbformat_minor": 5
}
