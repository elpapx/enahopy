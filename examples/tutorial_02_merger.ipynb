{
 "cells": [
  {
   "cell_type": "markdown",
   "metadata": {},
   "source": [
    "# Tutorial 02: Módulo Merger - Combinación de Módulos ENAHO\n",
    "\n",
    "Este tutorial cubre el uso del módulo **merger** de enahopy para:\n",
    "- Combinar múltiples módulos ENAHO a nivel hogar\n",
    "- Combinar módulos a nivel persona\n",
    "- Validar la calidad de los merges\n",
    "- Gestionar conflictos y valores faltantes\n",
    "\n",
    "## Ejemplos que cubriremos\n",
    "\n",
    "1. **Merge a Nivel Hogar**: Módulo 34 (Sumaria) + Módulo 01 (Características de Vivienda)\n",
    "2. **Merge a Nivel Persona**: Módulo 05 (Empleo) + Módulo 02 (Características de Miembros)\n",
    "3. **Merge Multi-nivel**: Combinar datos de hogar y persona"
   ]
  },
  {
   "cell_type": "code",
   "metadata": {
    "ExecuteTime": {
     "end_time": "2025-10-18T17:54:36.389679500Z",
     "start_time": "2025-10-18T17:54:36.203043600Z"
    }
   },
   "source": "import enahopy\nfrom enahopy.loader import ENAHODataDownloader\nfrom enahopy.loader.io import ENAHOLocalReader\nfrom enahopy.merger import ENAHOGeoMerger, ModuleMergeConfig, ModuleMergeLevel\nimport pandas as pd\nimport warnings\nwarnings.filterwarnings('ignore')\n\nprint(f\"enahopy versión: {enahopy.__version__}\")",
   "outputs": [
    {
     "name": "stdout",
     "output_type": "stream",
     "text": [
      "enahopy versión: 0.5.1\n",
      "enahopy versión: 0.5.1\n",
      "enahopy versión: 0.5.1\n"
     ]
    }
   ],
   "execution_count": 3
  },
  {
   "cell_type": "markdown",
   "metadata": {},
   "source": [
    "## 1. Preparación: Cargar Datos\n",
    "\n",
    "### 1.1 Configurar Descargador y Lector"
   ]
  },
  {
   "cell_type": "code",
   "metadata": {
    "ExecuteTime": {
     "end_time": "2025-10-18T17:55:31.559451200Z",
     "start_time": "2025-10-18T17:55:31.445885600Z"
    }
   },
   "source": "# Configurar año de análisis\nyear = 2022\n\n# Inicializar descargador\ndownloader = ENAHODataDownloader(verbose=False)  # Silencioso para claridad\n\nprint(f\"✅ Configuración lista para año {year}\")",
   "outputs": [
    {
     "name": "stdout",
     "output_type": "stream",
     "text": [
      "✅ Configuración lista para año 2022\n"
     ]
    }
   ],
   "execution_count": 4
  },
  {
   "cell_type": "markdown",
   "metadata": {},
   "source": [
    "### 1.2 Cargar Datos a Nivel Hogar"
   ]
  },
  {
   "cell_type": "code",
   "metadata": {
    "ExecuteTime": {
     "end_time": "2025-10-18T17:55:50.123256100Z",
     "start_time": "2025-10-18T17:55:47.568486900Z"
    }
   },
   "source": [
    "import glob\n",
    "import os\n",
    "\n",
    "# Descargar Módulo 34 (Sumaria)\n",
    "#print(\"📥 Descargando Módulo 34 (Sumaria)...\")\n",
    "#downloader.download(modules=[\"34\"], years=[str(year)], output_dir=\".enaho_cache\", decompress=True)\n",
    "\n",
    "# Encontrar y leer archivo\n",
    "dta_files_34 = glob.glob(f\".enaho_cache/modulo_34_{year}/*.dta\")\n",
    "if dta_files_34:\n",
    "    file_path_34 = dta_files_34[0]\n",
    "    reader_34 = ENAHOLocalReader(file_path=file_path_34, verbose=False)\n",
    "    df_sumaria, _ = reader_34.read_data(columns=[\n",
    "        'conglome', 'vivienda', 'hogar',  # Identificadores\n",
    "        'ubigeo', 'dominio', 'estrato',   # Ubicación\n",
    "        'mieperho',   # Miembros del hogar\n",
    "        'gashog2d',   # Gasto total\n",
    "        'inghog2d',   # Ingreso total\n",
    "        'pobreza',    # Condición de pobreza\n",
    "        'facpob07'    # Factor de expansión\n",
    "    ])\n",
    "    print(f\"✅ Módulo 34 cargado: {len(df_sumaria):,} hogares\")\n",
    "else:\n",
    "    raise FileNotFoundError(\"No se encontró archivo .dta para módulo 34\")\n",
    "\n",
    "# Descargar Módulo 01 (Características de Vivienda)\n",
    "#print(\"\\n📥 Descargando Módulo 01 (Vivienda y Hogar)...\")\n",
    "#downloader.download(modules=[\"01\"], years=[str(year)], output_dir=\".enaho_cache\", decompress=True)\n",
    "\n",
    "# Encontrar y leer archivo\n",
    "dta_files_01 = glob.glob(f\".enaho_cache/modulo_01_{year}/*.dta\")\n",
    "if dta_files_01:\n",
    "    file_path_01 = dta_files_01[0]\n",
    "    reader_01 = ENAHOLocalReader(file_path=file_path_01, verbose=False)\n",
    "    df_vivienda, _ = reader_01.read_data(columns=[\n",
    "        'conglome', 'vivienda', 'hogar',  # Identificadores\n",
    "        'result',     # Resultado de la encuesta\n",
    "        'p101',       # Tipo de vivienda\n",
    "        'p102',       # Material de paredes\n",
    "        'p103',       # Material de pisos\n",
    "        'p103a',      # Material de techo\n",
    "        'p110',       # Agua potable\n",
    "        'p111',       # Servicios higiénicos\n",
    "        'p112',       # Alumbrado eléctrico\n",
    "        'p113',       # Número de habitaciones\n",
    "        'p1141',      # Celular en el hogar\n",
    "        'p1142',      # Teléfono fijo\n",
    "        'p1143',      # Internet\n",
    "        'p1144',      # TV por cable\n",
    "    ])\n",
    "    print(f\"✅ Módulo 01 cargado: {len(df_vivienda):,} hogares\")\n",
    "else:\n",
    "    raise FileNotFoundError(\"No se encontró archivo .dta para módulo 01\")\n",
    "\n",
    "# Mostrar primeras filas\n",
    "print(\"\\n📊 Muestra de datos:\")\n",
    "print(\"\\nMódulo 34 (Sumaria):\")\n",
    "display(df_sumaria.head(3))\n",
    "\n",
    "print(\"\\nMódulo 01 (Vivienda):\")\n",
    "display(df_vivienda.head(3))"
   ],
   "outputs": [
    {
     "name": "stdout",
     "output_type": "stream",
     "text": [
      "✅ Módulo 34 cargado: 34,213 hogares\n",
      "✅ Módulo 01 cargado: 44,122 hogares\n",
      "\n",
      "📊 Muestra de datos:\n",
      "\n",
      "Módulo 34 (Sumaria):\n"
     ]
    },
    {
     "data": {
      "text/plain": [
       "  conglome vivienda hogar  ubigeo dominio                         estrato  \\\n",
       "0   005030      008    11  010201   selva   de 20 000 a 49 999 habitantes   \n",
       "1   005030      017    11  010201   selva   de 20 000 a 49 999 habitantes   \n",
       "2   005030      033    11  010201   selva   de 20 000 a 49 999 habitantes   \n",
       "\n",
       "   mieperho      gashog2d      inghog2d   pobreza  \n",
       "0         2  36949.523438  34606.441406  no pobre  \n",
       "1         2  48161.250000  82028.218750  no pobre  \n",
       "2         4  27575.878906  31791.029297  no pobre  "
      ],
      "text/html": [
       "<div>\n",
       "<style scoped>\n",
       "    .dataframe tbody tr th:only-of-type {\n",
       "        vertical-align: middle;\n",
       "    }\n",
       "\n",
       "    .dataframe tbody tr th {\n",
       "        vertical-align: top;\n",
       "    }\n",
       "\n",
       "    .dataframe thead th {\n",
       "        text-align: right;\n",
       "    }\n",
       "</style>\n",
       "<table border=\"1\" class=\"dataframe\">\n",
       "  <thead>\n",
       "    <tr style=\"text-align: right;\">\n",
       "      <th></th>\n",
       "      <th>conglome</th>\n",
       "      <th>vivienda</th>\n",
       "      <th>hogar</th>\n",
       "      <th>ubigeo</th>\n",
       "      <th>dominio</th>\n",
       "      <th>estrato</th>\n",
       "      <th>mieperho</th>\n",
       "      <th>gashog2d</th>\n",
       "      <th>inghog2d</th>\n",
       "      <th>pobreza</th>\n",
       "    </tr>\n",
       "  </thead>\n",
       "  <tbody>\n",
       "    <tr>\n",
       "      <th>0</th>\n",
       "      <td>005030</td>\n",
       "      <td>008</td>\n",
       "      <td>11</td>\n",
       "      <td>010201</td>\n",
       "      <td>selva</td>\n",
       "      <td>de 20 000 a 49 999 habitantes</td>\n",
       "      <td>2</td>\n",
       "      <td>36949.523438</td>\n",
       "      <td>34606.441406</td>\n",
       "      <td>no pobre</td>\n",
       "    </tr>\n",
       "    <tr>\n",
       "      <th>1</th>\n",
       "      <td>005030</td>\n",
       "      <td>017</td>\n",
       "      <td>11</td>\n",
       "      <td>010201</td>\n",
       "      <td>selva</td>\n",
       "      <td>de 20 000 a 49 999 habitantes</td>\n",
       "      <td>2</td>\n",
       "      <td>48161.250000</td>\n",
       "      <td>82028.218750</td>\n",
       "      <td>no pobre</td>\n",
       "    </tr>\n",
       "    <tr>\n",
       "      <th>2</th>\n",
       "      <td>005030</td>\n",
       "      <td>033</td>\n",
       "      <td>11</td>\n",
       "      <td>010201</td>\n",
       "      <td>selva</td>\n",
       "      <td>de 20 000 a 49 999 habitantes</td>\n",
       "      <td>4</td>\n",
       "      <td>27575.878906</td>\n",
       "      <td>31791.029297</td>\n",
       "      <td>no pobre</td>\n",
       "    </tr>\n",
       "  </tbody>\n",
       "</table>\n",
       "</div>"
      ]
     },
     "metadata": {},
     "output_type": "display_data",
     "jetTransient": {
      "display_id": null
     }
    },
    {
     "name": "stdout",
     "output_type": "stream",
     "text": [
      "\n",
      "Módulo 01 (Vivienda):\n"
     ]
    },
    {
     "data": {
      "text/plain": [
       "  conglome vivienda hogar    result  \\\n",
       "0   005007      003    11  completa   \n",
       "1   005007      012    11  completa   \n",
       "2   005007      022    11  completa   \n",
       "\n",
       "                                                p101   p102  \\\n",
       "0                                 casa independiente  adobe   \n",
       "1  vivienda en casa de vecindad (callejon, solar ...  tapia   \n",
       "2                                 casa independiente  adobe   \n",
       "\n",
       "                            p103   p103a  \\\n",
       "0  losetas, terrazos o similares  madera   \n",
       "1                        cemento  madera   \n",
       "2  losetas, terrazos o similares   tejas   \n",
       "\n",
       "                                                p110 p1141             p1142  \\\n",
       "0                 red publica, dentro de la vivienda  pase  telefono celular   \n",
       "1  red publica, fuera de la vivienda pero dentro ...  pase  telefono celular   \n",
       "2                 red publica, dentro de la vivienda  pase  telefono celular   \n",
       "\n",
       "                                  p1143                p1144  \n",
       "0                                  pase  conexion a internet  \n",
       "1                                  pase  conexion a internet  \n",
       "2  conexion a tv por  cable o satelital  conexion a internet  "
      ],
      "text/html": [
       "<div>\n",
       "<style scoped>\n",
       "    .dataframe tbody tr th:only-of-type {\n",
       "        vertical-align: middle;\n",
       "    }\n",
       "\n",
       "    .dataframe tbody tr th {\n",
       "        vertical-align: top;\n",
       "    }\n",
       "\n",
       "    .dataframe thead th {\n",
       "        text-align: right;\n",
       "    }\n",
       "</style>\n",
       "<table border=\"1\" class=\"dataframe\">\n",
       "  <thead>\n",
       "    <tr style=\"text-align: right;\">\n",
       "      <th></th>\n",
       "      <th>conglome</th>\n",
       "      <th>vivienda</th>\n",
       "      <th>hogar</th>\n",
       "      <th>result</th>\n",
       "      <th>p101</th>\n",
       "      <th>p102</th>\n",
       "      <th>p103</th>\n",
       "      <th>p103a</th>\n",
       "      <th>p110</th>\n",
       "      <th>p1141</th>\n",
       "      <th>p1142</th>\n",
       "      <th>p1143</th>\n",
       "      <th>p1144</th>\n",
       "    </tr>\n",
       "  </thead>\n",
       "  <tbody>\n",
       "    <tr>\n",
       "      <th>0</th>\n",
       "      <td>005007</td>\n",
       "      <td>003</td>\n",
       "      <td>11</td>\n",
       "      <td>completa</td>\n",
       "      <td>casa independiente</td>\n",
       "      <td>adobe</td>\n",
       "      <td>losetas, terrazos o similares</td>\n",
       "      <td>madera</td>\n",
       "      <td>red publica, dentro de la vivienda</td>\n",
       "      <td>pase</td>\n",
       "      <td>telefono celular</td>\n",
       "      <td>pase</td>\n",
       "      <td>conexion a internet</td>\n",
       "    </tr>\n",
       "    <tr>\n",
       "      <th>1</th>\n",
       "      <td>005007</td>\n",
       "      <td>012</td>\n",
       "      <td>11</td>\n",
       "      <td>completa</td>\n",
       "      <td>vivienda en casa de vecindad (callejon, solar ...</td>\n",
       "      <td>tapia</td>\n",
       "      <td>cemento</td>\n",
       "      <td>madera</td>\n",
       "      <td>red publica, fuera de la vivienda pero dentro ...</td>\n",
       "      <td>pase</td>\n",
       "      <td>telefono celular</td>\n",
       "      <td>pase</td>\n",
       "      <td>conexion a internet</td>\n",
       "    </tr>\n",
       "    <tr>\n",
       "      <th>2</th>\n",
       "      <td>005007</td>\n",
       "      <td>022</td>\n",
       "      <td>11</td>\n",
       "      <td>completa</td>\n",
       "      <td>casa independiente</td>\n",
       "      <td>adobe</td>\n",
       "      <td>losetas, terrazos o similares</td>\n",
       "      <td>tejas</td>\n",
       "      <td>red publica, dentro de la vivienda</td>\n",
       "      <td>pase</td>\n",
       "      <td>telefono celular</td>\n",
       "      <td>conexion a tv por  cable o satelital</td>\n",
       "      <td>conexion a internet</td>\n",
       "    </tr>\n",
       "  </tbody>\n",
       "</table>\n",
       "</div>"
      ]
     },
     "metadata": {},
     "output_type": "display_data",
     "jetTransient": {
      "display_id": null
     }
    }
   ],
   "execution_count": 5
  },
  {
   "cell_type": "markdown",
   "metadata": {},
   "source": [
    "## 2. Merge a Nivel Hogar\n",
    "\n",
    "### 2.1 Inicializar el Merger"
   ]
  },
  {
   "cell_type": "code",
   "metadata": {
    "ExecuteTime": {
     "end_time": "2025-10-18T17:56:06.628411Z",
     "start_time": "2025-10-18T17:56:06.496619400Z"
    }
   },
   "source": "# Crear configuración para merge a nivel hogar\nhogar_config = ModuleMergeConfig(merge_level=ModuleMergeLevel.HOGAR)\n\n# Crear instancia del merger\nmerger = ENAHOGeoMerger(module_config=hogar_config, verbose=True)\n\nprint(\"✅ Merger inicializado para nivel hogar\")\nprint(f\"📋 Nivel de merge: {hogar_config.merge_level.value}\")",
   "outputs": [
    {
     "name": "stderr",
     "output_type": "stream",
     "text": [
      "[2025-10-18 12:56:06,505] [INFO] enaho_geo_merger: ENAHOGeoMerger inicializado correctamente\n"
     ]
    },
    {
     "name": "stdout",
     "output_type": "stream",
     "text": [
      "✅ Merger inicializado para nivel hogar\n",
      "📋 Nivel de merge: hogar\n"
     ]
    }
   ],
   "execution_count": 6
  },
  {
   "cell_type": "markdown",
   "metadata": {},
   "source": [
    "### 2.2 Combinar Sumaria + Vivienda a Nivel Hogar"
   ]
  },
  {
   "cell_type": "code",
   "metadata": {
    "ExecuteTime": {
     "end_time": "2025-10-18T17:56:20.577650300Z",
     "start_time": "2025-10-18T17:56:08.880104Z"
    }
   },
   "source": "# Preparar diccionario de módulos a nivel hogar\nmodulos_hogar = {\n    '34': df_sumaria,   # Módulo sumaria como base\n    '01': df_vivienda   # Módulo vivienda\n}\n\nprint(\"🔗 Realizando merge a nivel hogar...\")\nprint(f\"   - Módulo sumaria (34): {len(df_sumaria):,} hogares\")\nprint(f\"   - Módulo vivienda (01): {len(df_vivienda):,} hogares\")\n\n# Ejecutar merge (usa módulo 34 como base)\nresultado_hogar = merger.merge_multiple_modules(\n    modules_dict=modulos_hogar,\n    base_module='34'  # Sumaria como módulo base\n)\n\ndf_hogar_merged = resultado_hogar.merged_df\n\nprint(f\"\\n✅ Merge completado!\")\nprint(f\"   📊 Hogares resultantes: {len(df_hogar_merged):,}\")\nprint(f\"   📋 Columnas totales: {len(df_hogar_merged.columns)}\")",
   "outputs": [
    {
     "name": "stderr",
     "output_type": "stream",
     "text": [
      "[2025-10-18 12:56:08,889] [INFO] enaho_geo_merger: Iniciando merge de 2 módulos con base '34'\n",
      "[2025-10-18 12:56:08,891] [INFO] enaho_geo_merger: Validando compatibilidad de 2 módulos\n",
      "[2025-10-18 12:56:08,892] [INFO] enaho_geo_merger: Orden de merge: 34 → 01\n",
      "[2025-10-18 12:56:08,894] [INFO] enaho_geo_merger: Agregando módulo 01\n",
      "[2025-10-18 12:56:08,895] [INFO] enaho_geo_merger: 🔗 Iniciando merge: Módulo 34 + Módulo 01\n"
     ]
    },
    {
     "name": "stdout",
     "output_type": "stream",
     "text": [
      "🔗 Realizando merge a nivel hogar...\n",
      "   - Módulo sumaria (34): 34,213 hogares\n",
      "   - Módulo vivienda (01): 44,122 hogares\n"
     ]
    },
    {
     "name": "stderr",
     "output_type": "stream",
     "text": [
      "[2025-10-18 12:56:20,164] [INFO] enaho_geo_merger: ✅ Tipos armonizados para columna 'vivienda'\n",
      "[2025-10-18 12:56:20,492] [INFO] enaho_geo_merger: ✅ Merge completado: 34213 registros finales (Calidad: 100.0%)\n",
      "[2025-10-18 12:56:20,498] [INFO] enaho_geo_merger: Merge completado: 34213 registros finales (Calidad: 10000.0%)\n",
      "[2025-10-18 12:56:20,499] [INFO] enaho_geo_merger: merge_multiple_modules completado en 11.61s con calidad total: 10000.0%\n"
     ]
    },
    {
     "name": "stdout",
     "output_type": "stream",
     "text": [
      "\n",
      "✅ Merge completado!\n",
      "   📊 Hogares resultantes: 34,213\n",
      "   📋 Columnas totales: 20\n"
     ]
    }
   ],
   "execution_count": 7
  },
  {
   "cell_type": "markdown",
   "metadata": {},
   "source": [
    "### 2.3 Analizar Resultado del Merge a Nivel Hogar"
   ]
  },
  {
   "cell_type": "code",
   "metadata": {
    "ExecuteTime": {
     "end_time": "2025-10-18T18:03:24.757372300Z",
     "start_time": "2025-10-18T18:03:24.609549700Z"
    }
   },
   "source": [
    "# Ver reporte del merge\n",
    "print(\"📋 REPORTE DE MERGE A NIVEL HOGAR\")\n",
    "print(\"=\"*70)\n",
    "for key, value in resultado_hogar.merge_report.items():\n",
    "    print(f\"   {key}: {value}\")\n",
    "\n",
    "print(f\"\\n📊 Calidad del merge: {resultado_hogar.quality_score:.2%}\")\n",
    "print(f\"⚠️  Advertencias: {len(resultado_hogar.validation_warnings)}\")\n",
    "\n",
    "if resultado_hogar.validation_warnings:\n",
    "    print(\"\\n⚠️ Advertencias encontradas:\")\n",
    "    for warning in resultado_hogar.validation_warnings[:5]:  # Primeras 5\n",
    "        print(f\"   - {warning}\")"
   ],
   "outputs": [
    {
     "name": "stdout",
     "output_type": "stream",
     "text": [
      "📋 REPORTE DE MERGE A NIVEL HOGAR\n",
      "======================================================================\n",
      "   modules_merged: ['34', '01']\n",
      "   base_module: 34\n",
      "   merge_order: ['34', '01']\n",
      "   total_records: 34213\n",
      "   individual_reports: [{'module': '01', 'report': {'modules_merged': '34 + 01', 'merge_level': 'hogar', 'merge_strategy': 'coalesce', 'total_records': 34213, 'merge_statistics': {'both': 34213, 'left_only': 0, 'right_only': 0, 'total': 34213}, 'compatibility_info': {'compatible': True}, 'quality_score': 100.0, 'type_issues_fixed': 1, 'cardinality_warning': None}, 'quality_score': 100.0}]\n",
      "   elapsed_time: 11.610004901885986\n",
      "   timestamp: 2025-10-18T12:56:20.499105\n",
      "\n",
      "📊 Calidad del merge: 10000.00%\n",
      "⚠️  Advertencias: 3\n",
      "\n",
      "⚠️ Advertencias encontradas:\n",
      "   - Sumaria: 1 hogares con número de miembros inválido\n",
      "   - Sumaria: 1055 hogares con gastos muy superiores a ingresos\n",
      "   - Tipo incompatible en vivienda (category vs category)\n"
     ]
    }
   ],
   "execution_count": 8
  },
  {
   "cell_type": "markdown",
   "metadata": {},
   "source": [
    "### 2.4 Explorar Datos Combinados a Nivel Hogar"
   ]
  },
  {
   "metadata": {
    "ExecuteTime": {
     "end_time": "2025-10-18T18:03:42.839923400Z",
     "start_time": "2025-10-18T18:03:42.651563600Z"
    }
   },
   "cell_type": "code",
   "source": [
    "# Ver columnas disponibles\n",
    "print(\"📋 Columnas del dataset combinado:\")\n",
    "print(f\"\\nColumnas de Sumaria ({len([c for c in df_hogar_merged.columns if c in df_sumaria.columns])}):\")\n",
    "print([c for c in df_hogar_merged.columns if c in df_sumaria.columns])\n",
    "\n",
    "print(f\"\\nColumnas de Vivienda ({len([c for c in df_hogar_merged.columns if c in df_vivienda.columns and c not in df_sumaria.columns])}):\")\n",
    "print([c for c in df_hogar_merged.columns if c in df_vivienda.columns and c not in df_sumaria.columns])\n",
    "\n",
    "# Muestra de datos combinados\n",
    "print(\"\\n📊 Muestra de datos combinados:\")\n",
    "display(df_hogar_merged[[\n",
    "    'ubigeo', 'pobreza', 'mieperho', 'gashog2d', 'inghog2d',  # De sumaria\n",
    "    'p101', 'p110',  'p1143'  # De vivienda\n",
    "]].head())"
   ],
   "outputs": [
    {
     "name": "stdout",
     "output_type": "stream",
     "text": [
      "📋 Columnas del dataset combinado:\n",
      "\n",
      "Columnas de Sumaria (10):\n",
      "['conglome', 'vivienda', 'hogar', 'ubigeo', 'dominio', 'estrato', 'mieperho', 'gashog2d', 'inghog2d', 'pobreza']\n",
      "\n",
      "Columnas de Vivienda (10):\n",
      "['result', 'p101', 'p102', 'p103', 'p103a', 'p110', 'p1141', 'p1142', 'p1143', 'p1144']\n",
      "\n",
      "📊 Muestra de datos combinados:\n"
     ]
    },
    {
     "data": {
      "text/plain": [
       "   ubigeo           pobreza  mieperho      gashog2d      inghog2d  \\\n",
       "0  010201          no pobre         2  36949.523438  34606.441406   \n",
       "1  010201          no pobre         2  48161.250000  82028.218750   \n",
       "2  010201          no pobre         4  27575.878906  31791.029297   \n",
       "3  010201          no pobre         3  16161.043945  24028.867188   \n",
       "4  010201  pobre no extremo        11  30606.212891  46056.109375   \n",
       "\n",
       "                 p101                                p110  \\\n",
       "0  casa independiente  red publica, dentro de la vivienda   \n",
       "1  casa independiente  red publica, dentro de la vivienda   \n",
       "2  casa independiente  red publica, dentro de la vivienda   \n",
       "3  casa independiente  red publica, dentro de la vivienda   \n",
       "4  casa independiente  red publica, dentro de la vivienda   \n",
       "\n",
       "                                  p1143  \n",
       "0  conexion a tv por  cable o satelital  \n",
       "1  conexion a tv por  cable o satelital  \n",
       "2                                  pase  \n",
       "3  conexion a tv por  cable o satelital  \n",
       "4  conexion a tv por  cable o satelital  "
      ],
      "text/html": [
       "<div>\n",
       "<style scoped>\n",
       "    .dataframe tbody tr th:only-of-type {\n",
       "        vertical-align: middle;\n",
       "    }\n",
       "\n",
       "    .dataframe tbody tr th {\n",
       "        vertical-align: top;\n",
       "    }\n",
       "\n",
       "    .dataframe thead th {\n",
       "        text-align: right;\n",
       "    }\n",
       "</style>\n",
       "<table border=\"1\" class=\"dataframe\">\n",
       "  <thead>\n",
       "    <tr style=\"text-align: right;\">\n",
       "      <th></th>\n",
       "      <th>ubigeo</th>\n",
       "      <th>pobreza</th>\n",
       "      <th>mieperho</th>\n",
       "      <th>gashog2d</th>\n",
       "      <th>inghog2d</th>\n",
       "      <th>p101</th>\n",
       "      <th>p110</th>\n",
       "      <th>p1143</th>\n",
       "    </tr>\n",
       "  </thead>\n",
       "  <tbody>\n",
       "    <tr>\n",
       "      <th>0</th>\n",
       "      <td>010201</td>\n",
       "      <td>no pobre</td>\n",
       "      <td>2</td>\n",
       "      <td>36949.523438</td>\n",
       "      <td>34606.441406</td>\n",
       "      <td>casa independiente</td>\n",
       "      <td>red publica, dentro de la vivienda</td>\n",
       "      <td>conexion a tv por  cable o satelital</td>\n",
       "    </tr>\n",
       "    <tr>\n",
       "      <th>1</th>\n",
       "      <td>010201</td>\n",
       "      <td>no pobre</td>\n",
       "      <td>2</td>\n",
       "      <td>48161.250000</td>\n",
       "      <td>82028.218750</td>\n",
       "      <td>casa independiente</td>\n",
       "      <td>red publica, dentro de la vivienda</td>\n",
       "      <td>conexion a tv por  cable o satelital</td>\n",
       "    </tr>\n",
       "    <tr>\n",
       "      <th>2</th>\n",
       "      <td>010201</td>\n",
       "      <td>no pobre</td>\n",
       "      <td>4</td>\n",
       "      <td>27575.878906</td>\n",
       "      <td>31791.029297</td>\n",
       "      <td>casa independiente</td>\n",
       "      <td>red publica, dentro de la vivienda</td>\n",
       "      <td>pase</td>\n",
       "    </tr>\n",
       "    <tr>\n",
       "      <th>3</th>\n",
       "      <td>010201</td>\n",
       "      <td>no pobre</td>\n",
       "      <td>3</td>\n",
       "      <td>16161.043945</td>\n",
       "      <td>24028.867188</td>\n",
       "      <td>casa independiente</td>\n",
       "      <td>red publica, dentro de la vivienda</td>\n",
       "      <td>conexion a tv por  cable o satelital</td>\n",
       "    </tr>\n",
       "    <tr>\n",
       "      <th>4</th>\n",
       "      <td>010201</td>\n",
       "      <td>pobre no extremo</td>\n",
       "      <td>11</td>\n",
       "      <td>30606.212891</td>\n",
       "      <td>46056.109375</td>\n",
       "      <td>casa independiente</td>\n",
       "      <td>red publica, dentro de la vivienda</td>\n",
       "      <td>conexion a tv por  cable o satelital</td>\n",
       "    </tr>\n",
       "  </tbody>\n",
       "</table>\n",
       "</div>"
      ]
     },
     "metadata": {},
     "output_type": "display_data",
     "jetTransient": {
      "display_id": null
     }
    }
   ],
   "execution_count": 9
  },
  {
   "cell_type": "markdown",
   "metadata": {},
   "source": [
    "### 2.5 Análisis Exploratorio del Dataset Combinado"
   ]
  },
  {
   "metadata": {
    "ExecuteTime": {
     "end_time": "2025-10-18T18:03:47.255618Z",
     "start_time": "2025-10-18T18:03:46.125415700Z"
    }
   },
   "cell_type": "code",
   "source": [
    "# Análisis de pobreza por tipo de vivienda\n",
    "print(\"📊 Análisis: Pobreza por Tipo de Vivienda\")\n",
    "print(\"=\"*70)\n",
    "\n",
    "crosstab_pobreza_vivienda = pd.crosstab(\n",
    "    df_hogar_merged['p101'],  # Tipo de vivienda\n",
    "    df_hogar_merged['pobreza'],  # Condición de pobreza\n",
    "    margins=True,\n",
    "    margins_name='Total'\n",
    ")\n",
    "\n",
    "display(crosstab_pobreza_vivienda)\n",
    "\n",
    "# Análisis de servicios básicos por condición de pobreza\n",
    "print(\"\\n💡 Acceso a Televisión por Condición de Pobreza:\")\n",
    "internet_pobreza = pd.crosstab(\n",
    "    df_hogar_merged['pobreza'],\n",
    "    df_hogar_merged['p1143'],  # Internet\n",
    "    normalize='index'\n",
    ") * 100\n",
    "\n",
    "display(internet_pobreza.round(2))"
   ],
   "outputs": [
    {
     "name": "stdout",
     "output_type": "stream",
     "text": [
      "📊 Análisis: Pobreza por Tipo de Vivienda\n",
      "======================================================================\n"
     ]
    },
    {
     "data": {
      "text/plain": [
       "pobreza                                             no pobre  pobre extremo  \\\n",
       "p101                                                                          \n",
       "casa independiente                                     23951           1418   \n",
       "choza o cabaña                                           142             58   \n",
       "departamento en edificio                                1508              2   \n",
       "local no destinado para habitacion humana                  1              0   \n",
       "vivienda en casa de vecindad (callejon, solar o...      1053             17   \n",
       "vivienda en quinta                                       250              6   \n",
       "vivienda improvisada                                       6              0   \n",
       "Total                                                  26911           1501   \n",
       "\n",
       "pobreza                                             pobre no extremo  Total  \n",
       "p101                                                                         \n",
       "casa independiente                                              5037  30406  \n",
       "choza o cabaña                                                   100    300  \n",
       "departamento en edificio                                          66   1576  \n",
       "local no destinado para habitacion humana                          0      1  \n",
       "vivienda en casa de vecindad (callejon, solar o...               204   1274  \n",
       "vivienda en quinta                                                35    291  \n",
       "vivienda improvisada                                               0      6  \n",
       "Total                                                           5442  33854  "
      ],
      "text/html": [
       "<div>\n",
       "<style scoped>\n",
       "    .dataframe tbody tr th:only-of-type {\n",
       "        vertical-align: middle;\n",
       "    }\n",
       "\n",
       "    .dataframe tbody tr th {\n",
       "        vertical-align: top;\n",
       "    }\n",
       "\n",
       "    .dataframe thead th {\n",
       "        text-align: right;\n",
       "    }\n",
       "</style>\n",
       "<table border=\"1\" class=\"dataframe\">\n",
       "  <thead>\n",
       "    <tr style=\"text-align: right;\">\n",
       "      <th>pobreza</th>\n",
       "      <th>no pobre</th>\n",
       "      <th>pobre extremo</th>\n",
       "      <th>pobre no extremo</th>\n",
       "      <th>Total</th>\n",
       "    </tr>\n",
       "    <tr>\n",
       "      <th>p101</th>\n",
       "      <th></th>\n",
       "      <th></th>\n",
       "      <th></th>\n",
       "      <th></th>\n",
       "    </tr>\n",
       "  </thead>\n",
       "  <tbody>\n",
       "    <tr>\n",
       "      <th>casa independiente</th>\n",
       "      <td>23951</td>\n",
       "      <td>1418</td>\n",
       "      <td>5037</td>\n",
       "      <td>30406</td>\n",
       "    </tr>\n",
       "    <tr>\n",
       "      <th>choza o cabaña</th>\n",
       "      <td>142</td>\n",
       "      <td>58</td>\n",
       "      <td>100</td>\n",
       "      <td>300</td>\n",
       "    </tr>\n",
       "    <tr>\n",
       "      <th>departamento en edificio</th>\n",
       "      <td>1508</td>\n",
       "      <td>2</td>\n",
       "      <td>66</td>\n",
       "      <td>1576</td>\n",
       "    </tr>\n",
       "    <tr>\n",
       "      <th>local no destinado para habitacion humana</th>\n",
       "      <td>1</td>\n",
       "      <td>0</td>\n",
       "      <td>0</td>\n",
       "      <td>1</td>\n",
       "    </tr>\n",
       "    <tr>\n",
       "      <th>vivienda en casa de vecindad (callejon, solar o corralon)</th>\n",
       "      <td>1053</td>\n",
       "      <td>17</td>\n",
       "      <td>204</td>\n",
       "      <td>1274</td>\n",
       "    </tr>\n",
       "    <tr>\n",
       "      <th>vivienda en quinta</th>\n",
       "      <td>250</td>\n",
       "      <td>6</td>\n",
       "      <td>35</td>\n",
       "      <td>291</td>\n",
       "    </tr>\n",
       "    <tr>\n",
       "      <th>vivienda improvisada</th>\n",
       "      <td>6</td>\n",
       "      <td>0</td>\n",
       "      <td>0</td>\n",
       "      <td>6</td>\n",
       "    </tr>\n",
       "    <tr>\n",
       "      <th>Total</th>\n",
       "      <td>26911</td>\n",
       "      <td>1501</td>\n",
       "      <td>5442</td>\n",
       "      <td>33854</td>\n",
       "    </tr>\n",
       "  </tbody>\n",
       "</table>\n",
       "</div>"
      ]
     },
     "metadata": {},
     "output_type": "display_data",
     "jetTransient": {
      "display_id": null
     }
    },
    {
     "name": "stdout",
     "output_type": "stream",
     "text": [
      "\n",
      "💡 Acceso a Televisión por Condición de Pobreza:\n"
     ]
    },
    {
     "data": {
      "text/plain": [
       "p1143             conexion a tv por  cable o satelital   pase\n",
       "pobreza                                                      \n",
       "no pobre                                         34.40  65.60\n",
       "pobre extremo                                     6.19  93.81\n",
       "pobre no extremo                                 16.15  83.85"
      ],
      "text/html": [
       "<div>\n",
       "<style scoped>\n",
       "    .dataframe tbody tr th:only-of-type {\n",
       "        vertical-align: middle;\n",
       "    }\n",
       "\n",
       "    .dataframe tbody tr th {\n",
       "        vertical-align: top;\n",
       "    }\n",
       "\n",
       "    .dataframe thead th {\n",
       "        text-align: right;\n",
       "    }\n",
       "</style>\n",
       "<table border=\"1\" class=\"dataframe\">\n",
       "  <thead>\n",
       "    <tr style=\"text-align: right;\">\n",
       "      <th>p1143</th>\n",
       "      <th>conexion a tv por  cable o satelital</th>\n",
       "      <th>pase</th>\n",
       "    </tr>\n",
       "    <tr>\n",
       "      <th>pobreza</th>\n",
       "      <th></th>\n",
       "      <th></th>\n",
       "    </tr>\n",
       "  </thead>\n",
       "  <tbody>\n",
       "    <tr>\n",
       "      <th>no pobre</th>\n",
       "      <td>34.40</td>\n",
       "      <td>65.60</td>\n",
       "    </tr>\n",
       "    <tr>\n",
       "      <th>pobre extremo</th>\n",
       "      <td>6.19</td>\n",
       "      <td>93.81</td>\n",
       "    </tr>\n",
       "    <tr>\n",
       "      <th>pobre no extremo</th>\n",
       "      <td>16.15</td>\n",
       "      <td>83.85</td>\n",
       "    </tr>\n",
       "  </tbody>\n",
       "</table>\n",
       "</div>"
      ]
     },
     "metadata": {},
     "output_type": "display_data",
     "jetTransient": {
      "display_id": null
     }
    }
   ],
   "execution_count": 10
  },
  {
   "cell_type": "markdown",
   "metadata": {},
   "source": [
    "## 3. Merge a Nivel Persona\n",
    "\n",
    "### 3.1 Cargar Datos a Nivel Persona"
   ]
  },
  {
   "cell_type": "code",
   "metadata": {
    "ExecuteTime": {
     "end_time": "2025-10-18T18:12:53.613082Z",
     "start_time": "2025-10-18T18:12:48.817427800Z"
    }
   },
   "source": [
    "import glob\n",
    "import os\n",
    "\n",
    "# Descargar Módulo 02 (Características de Miembros)\n",
    "#print(\"📥 Descargando Módulo 02 (Características)...\")\n",
    "#downloader.download(modules=[\"02\"], years=[str(year)], output_dir=\".enaho_cache\", decompress=True)\n",
    "\n",
    "# Encontrar y leer archivo\n",
    "dta_files_02 = glob.glob(f\".enaho_cache/modulo_02_{year}/*.dta\")\n",
    "if dta_files_02:\n",
    "    file_path_02 = dta_files_02[0]\n",
    "    reader_02 = ENAHOLocalReader(file_path=file_path_02, verbose=False)\n",
    "    df_caracteristicas, _ = reader_02.read_data(columns=[\n",
    "        'conglome', 'vivienda', 'hogar', 'codperso',  # Identificadores\n",
    "        'p203',      # Parentesco\n",
    "        'p207',      # Sexo\n",
    "        'p208a',      # Edad\n",
    "        'p209',     # estado civil\n",
    "    ])\n",
    "    print(f\"✅ Módulo 02 cargado: {len(df_caracteristicas):,} personas\")\n",
    "else:\n",
    "    raise FileNotFoundError(\"No se encontró archivo .dta para módulo 02\")\n",
    "\n",
    "# Descargar Módulo 05 (Empleo e Ingresos)\n",
    "#print(\"\\n📥 Descargando Módulo 05 (Empleo)...\")\n",
    "#downloader.download(modules=[\"05\"], years=[str(year)], output_dir=\".enaho_cache\", decompress=True)\n",
    "\n",
    "# Encontrar y leer archivo\n",
    "dta_files_05 = glob.glob(f\".enaho_cache/modulo_05_{year}/*.dta\")\n",
    "if dta_files_05:\n",
    "    file_path_05 = dta_files_05[0]\n",
    "    reader_05 = ENAHOLocalReader(file_path=file_path_05, verbose=False)\n",
    "    df_empleo, _ = reader_05.read_data(columns=[\n",
    "        'conglome', 'vivienda', 'hogar', 'codperso',  # Identificadores\n",
    "        'ocu500',    # Condición de actividad\n",
    "        'p506',      # Ocupación principal\n",
    "        'p507',      # Categoría ocupacional\n",
    "        'p511a',     # Horas trabajadas\n",
    "        'i524a1',    # Ingreso trabajo dependiente\n",
    "        'i530a',     # Ingreso trabajo independiente\n",
    "        'p523',      # Tiene contrato escrito\n",
    "        'p524a1'     # Tipo de contrato\n",
    "    ])\n",
    "    print(f\"✅ Módulo 05 cargado: {len(df_empleo):,} personas\")\n",
    "else:\n",
    "    raise FileNotFoundError(\"No se encontró archivo .dta para módulo 05\")\n",
    "\n",
    "# Mostrar primeras filas\n",
    "print(\"\\n📊 Muestra de datos:\")\n",
    "print(\"\\nMódulo 02 (Características):\")\n",
    "display(df_caracteristicas.head(3))\n",
    "\n",
    "print(\"\\nMódulo 05 (Empleo):\")\n",
    "display(df_empleo.head(3))"
   ],
   "outputs": [
    {
     "name": "stdout",
     "output_type": "stream",
     "text": [
      "✅ Módulo 02 cargado: 121,253 personas\n",
      "✅ Módulo 05 cargado: 87,661 personas\n",
      "\n",
      "📊 Muestra de datos:\n",
      "\n",
      "Módulo 02 (Características):\n"
     ]
    },
    {
     "data": {
      "text/plain": [
       "  conglome vivienda hogar codperso                    p203    p207 p208a  \\\n",
       "0   005030      008    11       01               jefe/jefa  hombre    85   \n",
       "1   005030      008    11       02  esposo(a)/compañero(a)   mujer    75   \n",
       "2   005030      008    11       03      otros no parientes   mujer    53   \n",
       "\n",
       "         p209  \n",
       "0   casado(a)  \n",
       "1   casado(a)  \n",
       "2  soltero(a)  "
      ],
      "text/html": [
       "<div>\n",
       "<style scoped>\n",
       "    .dataframe tbody tr th:only-of-type {\n",
       "        vertical-align: middle;\n",
       "    }\n",
       "\n",
       "    .dataframe tbody tr th {\n",
       "        vertical-align: top;\n",
       "    }\n",
       "\n",
       "    .dataframe thead th {\n",
       "        text-align: right;\n",
       "    }\n",
       "</style>\n",
       "<table border=\"1\" class=\"dataframe\">\n",
       "  <thead>\n",
       "    <tr style=\"text-align: right;\">\n",
       "      <th></th>\n",
       "      <th>conglome</th>\n",
       "      <th>vivienda</th>\n",
       "      <th>hogar</th>\n",
       "      <th>codperso</th>\n",
       "      <th>p203</th>\n",
       "      <th>p207</th>\n",
       "      <th>p208a</th>\n",
       "      <th>p209</th>\n",
       "    </tr>\n",
       "  </thead>\n",
       "  <tbody>\n",
       "    <tr>\n",
       "      <th>0</th>\n",
       "      <td>005030</td>\n",
       "      <td>008</td>\n",
       "      <td>11</td>\n",
       "      <td>01</td>\n",
       "      <td>jefe/jefa</td>\n",
       "      <td>hombre</td>\n",
       "      <td>85</td>\n",
       "      <td>casado(a)</td>\n",
       "    </tr>\n",
       "    <tr>\n",
       "      <th>1</th>\n",
       "      <td>005030</td>\n",
       "      <td>008</td>\n",
       "      <td>11</td>\n",
       "      <td>02</td>\n",
       "      <td>esposo(a)/compañero(a)</td>\n",
       "      <td>mujer</td>\n",
       "      <td>75</td>\n",
       "      <td>casado(a)</td>\n",
       "    </tr>\n",
       "    <tr>\n",
       "      <th>2</th>\n",
       "      <td>005030</td>\n",
       "      <td>008</td>\n",
       "      <td>11</td>\n",
       "      <td>03</td>\n",
       "      <td>otros no parientes</td>\n",
       "      <td>mujer</td>\n",
       "      <td>53</td>\n",
       "      <td>soltero(a)</td>\n",
       "    </tr>\n",
       "  </tbody>\n",
       "</table>\n",
       "</div>"
      ]
     },
     "metadata": {},
     "output_type": "display_data",
     "jetTransient": {
      "display_id": null
     }
    },
    {
     "name": "stdout",
     "output_type": "stream",
     "text": [
      "\n",
      "Módulo 05 (Empleo):\n"
     ]
    },
    {
     "data": {
      "text/plain": [
       "  conglome vivienda hogar codperso                                      p506  \\\n",
       "0   005007      003    11       01           instituto de enseñanza superior   \n",
       "1   005007      012    11       01             servicio de comedor en trenes   \n",
       "2   005007      022    11       01  administracion y aplicacion de impuestos   \n",
       "\n",
       "       p507                                      p511a     p523 p524a1  i530a  \\\n",
       "0  empleado  contrato indefinido, nombrado, permanente  mensual   5000    NaN   \n",
       "1    obrero                               sin contrato  mensual    800    NaN   \n",
       "2  empleado  contrato indefinido, nombrado, permanente  mensual   1660    NaN   \n",
       "\n",
       "    i524a1   ocu500  \n",
       "0  63060.0  ocupado  \n",
       "1  10090.0  ocupado  \n",
       "2  20936.0  ocupado  "
      ],
      "text/html": [
       "<div>\n",
       "<style scoped>\n",
       "    .dataframe tbody tr th:only-of-type {\n",
       "        vertical-align: middle;\n",
       "    }\n",
       "\n",
       "    .dataframe tbody tr th {\n",
       "        vertical-align: top;\n",
       "    }\n",
       "\n",
       "    .dataframe thead th {\n",
       "        text-align: right;\n",
       "    }\n",
       "</style>\n",
       "<table border=\"1\" class=\"dataframe\">\n",
       "  <thead>\n",
       "    <tr style=\"text-align: right;\">\n",
       "      <th></th>\n",
       "      <th>conglome</th>\n",
       "      <th>vivienda</th>\n",
       "      <th>hogar</th>\n",
       "      <th>codperso</th>\n",
       "      <th>p506</th>\n",
       "      <th>p507</th>\n",
       "      <th>p511a</th>\n",
       "      <th>p523</th>\n",
       "      <th>p524a1</th>\n",
       "      <th>i530a</th>\n",
       "      <th>i524a1</th>\n",
       "      <th>ocu500</th>\n",
       "    </tr>\n",
       "  </thead>\n",
       "  <tbody>\n",
       "    <tr>\n",
       "      <th>0</th>\n",
       "      <td>005007</td>\n",
       "      <td>003</td>\n",
       "      <td>11</td>\n",
       "      <td>01</td>\n",
       "      <td>instituto de enseñanza superior</td>\n",
       "      <td>empleado</td>\n",
       "      <td>contrato indefinido, nombrado, permanente</td>\n",
       "      <td>mensual</td>\n",
       "      <td>5000</td>\n",
       "      <td>NaN</td>\n",
       "      <td>63060.0</td>\n",
       "      <td>ocupado</td>\n",
       "    </tr>\n",
       "    <tr>\n",
       "      <th>1</th>\n",
       "      <td>005007</td>\n",
       "      <td>012</td>\n",
       "      <td>11</td>\n",
       "      <td>01</td>\n",
       "      <td>servicio de comedor en trenes</td>\n",
       "      <td>obrero</td>\n",
       "      <td>sin contrato</td>\n",
       "      <td>mensual</td>\n",
       "      <td>800</td>\n",
       "      <td>NaN</td>\n",
       "      <td>10090.0</td>\n",
       "      <td>ocupado</td>\n",
       "    </tr>\n",
       "    <tr>\n",
       "      <th>2</th>\n",
       "      <td>005007</td>\n",
       "      <td>022</td>\n",
       "      <td>11</td>\n",
       "      <td>01</td>\n",
       "      <td>administracion y aplicacion de impuestos</td>\n",
       "      <td>empleado</td>\n",
       "      <td>contrato indefinido, nombrado, permanente</td>\n",
       "      <td>mensual</td>\n",
       "      <td>1660</td>\n",
       "      <td>NaN</td>\n",
       "      <td>20936.0</td>\n",
       "      <td>ocupado</td>\n",
       "    </tr>\n",
       "  </tbody>\n",
       "</table>\n",
       "</div>"
      ]
     },
     "metadata": {},
     "output_type": "display_data",
     "jetTransient": {
      "display_id": null
     }
    }
   ],
   "execution_count": 19
  },
  {
   "cell_type": "markdown",
   "metadata": {},
   "source": [
    "### 3.2 Combinar Características + Empleo a Nivel Persona"
   ]
  },
  {
   "cell_type": "code",
   "metadata": {
    "ExecuteTime": {
     "end_time": "2025-10-18T18:34:17.068506800Z",
     "start_time": "2025-10-18T18:34:06.126755Z"
    }
   },
   "source": "# Preparar diccionario de módulos a nivel persona\nmodulos_persona = {\n    '02': df_caracteristicas,  # Módulo características como base\n    '05': df_empleo\n}\n\nprint(\"🔗 Realizando merge a nivel persona...\")\nprint(f\"   - Módulo características (02): {len(df_caracteristicas):,} personas\")\nprint(f\"   - Módulo empleo (05): {len(df_empleo):,} personas\")\n\n# Crear configuración para nivel persona\npersona_config = ModuleMergeConfig(merge_level=ModuleMergeLevel.PERSONA)\n\n# Crear nuevo merger para nivel persona\nmerger_persona = ENAHOGeoMerger(module_config=persona_config, verbose=True)\n\n# Ejecutar merge (usa módulo 02 como base)\nresultado_persona = merger_persona.merge_multiple_modules(\n    modules_dict=modulos_persona,\n    base_module='02'  # Características como módulo base\n)\n\ndf_persona_merged = resultado_persona.merged_df\n\nprint(f\"\\n✅ Merge completado!\")\nprint(f\"   📊 Personas resultantes: {len(df_persona_merged):,}\")\nprint(f\"   📋 Columnas totales: {len(df_persona_merged.columns)}\")",
   "outputs": [
    {
     "name": "stderr",
     "output_type": "stream",
     "text": [
      "[2025-10-18 13:34:06,137] [INFO] enaho_geo_merger: ENAHOGeoMerger inicializado correctamente\n",
      "[2025-10-18 13:34:06,139] [INFO] enaho_geo_merger: Iniciando merge de 2 módulos con base '02'\n",
      "[2025-10-18 13:34:06,140] [INFO] enaho_geo_merger: Validando compatibilidad de 2 módulos\n",
      "[2025-10-18 13:34:06,141] [INFO] enaho_geo_merger: Orden de merge: 02 → 05\n",
      "[2025-10-18 13:34:06,143] [INFO] enaho_geo_merger: Agregando módulo 05\n",
      "[2025-10-18 13:34:06,144] [INFO] enaho_geo_merger: 🔗 Iniciando merge: Módulo 02 + Módulo 05\n"
     ]
    },
    {
     "name": "stdout",
     "output_type": "stream",
     "text": [
      "🔗 Realizando merge a nivel persona...\n",
      "   - Módulo características (02): 121,253 personas\n",
      "   - Módulo empleo (05): 87,661 personas\n"
     ]
    },
    {
     "name": "stderr",
     "output_type": "stream",
     "text": [
      "[2025-10-18 13:34:16,293] [INFO] enaho_geo_merger: ✅ Tipos armonizados para columna 'codperso'\n",
      "[2025-10-18 13:34:16,998] [INFO] enaho_geo_merger: ✅ Merge completado: 121253 registros finales (Calidad: 66.8%)\n",
      "[2025-10-18 13:34:17,016] [INFO] enaho_geo_merger: Merge completado: 121253 registros finales (Calidad: 6675.5%)\n",
      "[2025-10-18 13:34:17,018] [INFO] enaho_geo_merger: merge_multiple_modules completado en 10.88s con calidad total: 6675.5%\n"
     ]
    },
    {
     "name": "stdout",
     "output_type": "stream",
     "text": [
      "\n",
      "✅ Merge completado!\n",
      "   📊 Personas resultantes: 121,253\n",
      "   📋 Columnas totales: 16\n"
     ]
    }
   ],
   "execution_count": 41
  },
  {
   "cell_type": "markdown",
   "metadata": {},
   "source": [
    "### 3.3 Analizar Resultado del Merge a Nivel Persona"
   ]
  },
  {
   "cell_type": "code",
   "metadata": {
    "ExecuteTime": {
     "end_time": "2025-10-18T18:13:15.845958600Z",
     "start_time": "2025-10-18T18:13:15.716458900Z"
    }
   },
   "source": [
    "# Ver reporte del merge\n",
    "print(\"📋 REPORTE DE MERGE A NIVEL PERSONA\")\n",
    "print(\"=\"*70)\n",
    "for key, value in resultado_persona.merge_report.items():\n",
    "    print(f\"   {key}: {value}\")\n",
    "\n",
    "print(f\"\\n📊 Calidad del merge: {resultado_persona.quality_score:.2%}\")\n",
    "print(f\"⚠️  Advertencias: {len(resultado_persona.validation_warnings)}\")\n",
    "\n",
    "# Analizar registros no emparejados\n",
    "print(f\"\\n📈 Personas sin datos de empleo: {resultado_persona.unmatched_right:,}\")\n",
    "print(\"   (Esto es normal: niños, personas que no participan en la fuerza laboral, etc.)\")"
   ],
   "outputs": [
    {
     "name": "stdout",
     "output_type": "stream",
     "text": [
      "📋 REPORTE DE MERGE A NIVEL PERSONA\n",
      "======================================================================\n",
      "   modules_merged: ['02', '05']\n",
      "   base_module: 02\n",
      "   merge_order: ['02', '05']\n",
      "   total_records: 121253\n",
      "   individual_reports: [{'module': '05', 'report': {'modules_merged': '02 + 05', 'merge_level': 'persona', 'merge_strategy': 'coalesce', 'total_records': 121253, 'merge_statistics': {'both': 87661, 'left_only': 33592, 'right_only': 0, 'total': 121253}, 'compatibility_info': {'compatible': True}, 'quality_score': 66.75513183178973, 'type_issues_fixed': 1, 'cardinality_warning': None}, 'quality_score': 66.75513183178973}]\n",
      "   elapsed_time: 11.082005739212036\n",
      "   timestamp: 2025-10-18T13:13:15.673731\n",
      "\n",
      "📊 Calidad del merge: 6675.51%\n",
      "⚠️  Advertencias: 4\n",
      "\n",
      "📈 Personas sin datos de empleo: 0\n",
      "   (Esto es normal: niños, personas que no participan en la fuerza laboral, etc.)\n"
     ]
    }
   ],
   "execution_count": 21
  },
  {
   "cell_type": "markdown",
   "metadata": {},
   "source": [
    "### 3.4 Explorar Datos Combinados a Nivel Persona"
   ]
  },
  {
   "cell_type": "code",
   "metadata": {
    "ExecuteTime": {
     "end_time": "2025-10-18T18:18:31.902294300Z",
     "start_time": "2025-10-18T18:18:31.782691100Z"
    }
   },
   "source": [
    "# Ver muestra de datos combinados\n",
    "print(\"📊 Muestra de datos combinados a nivel persona:\")\n",
    "display(df_persona_merged[[\n",
    "    'codperso', 'p207', 'p208a', 'p209',  # Características\n",
    "    'ocu500', 'p507', 'p511a', 'i524a1'   # Empleo\n",
    "]].head(10))\n"
   ],
   "outputs": [
    {
     "name": "stdout",
     "output_type": "stream",
     "text": [
      "📊 Muestra de datos combinados a nivel persona:\n"
     ]
    },
    {
     "data": {
      "text/plain": [
       "  codperso    p207 p208a         p209   ocu500  \\\n",
       "0       01  hombre    85    casado(a)   no pea   \n",
       "1       02   mujer    75    casado(a)   no pea   \n",
       "2       03   mujer    53   soltero(a)      NaN   \n",
       "3       01   mujer    77     viudo(a)  ocupado   \n",
       "4       02  hombre    55  separado(a)  ocupado   \n",
       "5       01   mujer    40   soltero(a)  ocupado   \n",
       "6       02   mujer    70     viudo(a)  ocupado   \n",
       "7       03   mujer    37  separado(a)   no pea   \n",
       "8       04  hombre    14   soltero(a)  ocupado   \n",
       "9       05   mujer    39  conviviente      NaN   \n",
       "\n",
       "                                p507         p511a  i524a1  \n",
       "0                                NaN           NaN     NaN  \n",
       "1                                NaN           NaN     NaN  \n",
       "2                                NaN           NaN     NaN  \n",
       "3           trabajador independiente           NaN     NaN  \n",
       "4  trabajador familiar no remunerado  sin contrato     NaN  \n",
       "5           trabajador independiente           NaN     NaN  \n",
       "6  trabajador familiar no remunerado  sin contrato     NaN  \n",
       "7                                NaN           NaN     NaN  \n",
       "8  trabajador familiar no remunerado  sin contrato     NaN  \n",
       "9                                NaN           NaN     NaN  "
      ],
      "text/html": [
       "<div>\n",
       "<style scoped>\n",
       "    .dataframe tbody tr th:only-of-type {\n",
       "        vertical-align: middle;\n",
       "    }\n",
       "\n",
       "    .dataframe tbody tr th {\n",
       "        vertical-align: top;\n",
       "    }\n",
       "\n",
       "    .dataframe thead th {\n",
       "        text-align: right;\n",
       "    }\n",
       "</style>\n",
       "<table border=\"1\" class=\"dataframe\">\n",
       "  <thead>\n",
       "    <tr style=\"text-align: right;\">\n",
       "      <th></th>\n",
       "      <th>codperso</th>\n",
       "      <th>p207</th>\n",
       "      <th>p208a</th>\n",
       "      <th>p209</th>\n",
       "      <th>ocu500</th>\n",
       "      <th>p507</th>\n",
       "      <th>p511a</th>\n",
       "      <th>i524a1</th>\n",
       "    </tr>\n",
       "  </thead>\n",
       "  <tbody>\n",
       "    <tr>\n",
       "      <th>0</th>\n",
       "      <td>01</td>\n",
       "      <td>hombre</td>\n",
       "      <td>85</td>\n",
       "      <td>casado(a)</td>\n",
       "      <td>no pea</td>\n",
       "      <td>NaN</td>\n",
       "      <td>NaN</td>\n",
       "      <td>NaN</td>\n",
       "    </tr>\n",
       "    <tr>\n",
       "      <th>1</th>\n",
       "      <td>02</td>\n",
       "      <td>mujer</td>\n",
       "      <td>75</td>\n",
       "      <td>casado(a)</td>\n",
       "      <td>no pea</td>\n",
       "      <td>NaN</td>\n",
       "      <td>NaN</td>\n",
       "      <td>NaN</td>\n",
       "    </tr>\n",
       "    <tr>\n",
       "      <th>2</th>\n",
       "      <td>03</td>\n",
       "      <td>mujer</td>\n",
       "      <td>53</td>\n",
       "      <td>soltero(a)</td>\n",
       "      <td>NaN</td>\n",
       "      <td>NaN</td>\n",
       "      <td>NaN</td>\n",
       "      <td>NaN</td>\n",
       "    </tr>\n",
       "    <tr>\n",
       "      <th>3</th>\n",
       "      <td>01</td>\n",
       "      <td>mujer</td>\n",
       "      <td>77</td>\n",
       "      <td>viudo(a)</td>\n",
       "      <td>ocupado</td>\n",
       "      <td>trabajador independiente</td>\n",
       "      <td>NaN</td>\n",
       "      <td>NaN</td>\n",
       "    </tr>\n",
       "    <tr>\n",
       "      <th>4</th>\n",
       "      <td>02</td>\n",
       "      <td>hombre</td>\n",
       "      <td>55</td>\n",
       "      <td>separado(a)</td>\n",
       "      <td>ocupado</td>\n",
       "      <td>trabajador familiar no remunerado</td>\n",
       "      <td>sin contrato</td>\n",
       "      <td>NaN</td>\n",
       "    </tr>\n",
       "    <tr>\n",
       "      <th>5</th>\n",
       "      <td>01</td>\n",
       "      <td>mujer</td>\n",
       "      <td>40</td>\n",
       "      <td>soltero(a)</td>\n",
       "      <td>ocupado</td>\n",
       "      <td>trabajador independiente</td>\n",
       "      <td>NaN</td>\n",
       "      <td>NaN</td>\n",
       "    </tr>\n",
       "    <tr>\n",
       "      <th>6</th>\n",
       "      <td>02</td>\n",
       "      <td>mujer</td>\n",
       "      <td>70</td>\n",
       "      <td>viudo(a)</td>\n",
       "      <td>ocupado</td>\n",
       "      <td>trabajador familiar no remunerado</td>\n",
       "      <td>sin contrato</td>\n",
       "      <td>NaN</td>\n",
       "    </tr>\n",
       "    <tr>\n",
       "      <th>7</th>\n",
       "      <td>03</td>\n",
       "      <td>mujer</td>\n",
       "      <td>37</td>\n",
       "      <td>separado(a)</td>\n",
       "      <td>no pea</td>\n",
       "      <td>NaN</td>\n",
       "      <td>NaN</td>\n",
       "      <td>NaN</td>\n",
       "    </tr>\n",
       "    <tr>\n",
       "      <th>8</th>\n",
       "      <td>04</td>\n",
       "      <td>hombre</td>\n",
       "      <td>14</td>\n",
       "      <td>soltero(a)</td>\n",
       "      <td>ocupado</td>\n",
       "      <td>trabajador familiar no remunerado</td>\n",
       "      <td>sin contrato</td>\n",
       "      <td>NaN</td>\n",
       "    </tr>\n",
       "    <tr>\n",
       "      <th>9</th>\n",
       "      <td>05</td>\n",
       "      <td>mujer</td>\n",
       "      <td>39</td>\n",
       "      <td>conviviente</td>\n",
       "      <td>NaN</td>\n",
       "      <td>NaN</td>\n",
       "      <td>NaN</td>\n",
       "      <td>NaN</td>\n",
       "    </tr>\n",
       "  </tbody>\n",
       "</table>\n",
       "</div>"
      ]
     },
     "metadata": {},
     "output_type": "display_data",
     "jetTransient": {
      "display_id": null
     }
    }
   ],
   "execution_count": 26
  },
  {
   "cell_type": "markdown",
   "metadata": {},
   "source": "### 3.5 Análisis: Empleo por Nivel Educativo y Sexo"
  },
  {
   "metadata": {
    "ExecuteTime": {
     "end_time": "2025-10-18T18:37:17.320624700Z",
     "start_time": "2025-10-18T18:37:17.101211700Z"
    }
   },
   "cell_type": "code",
   "source": [
    "# Filtrar personas en edad de trabajar (14+ años) - versión robusta\n",
    "df_pet = df_persona_merged[pd.to_numeric(df_persona_merged['p208a'], errors='coerce') >= 14].copy()\n",
    "\n",
    "print(f\"📊 Personas en Edad de Trabajar (PET): {len(df_pet):,}\")\n",
    "\n",
    "# El resto de tu código continúa igual...\n",
    "# Tasa de actividad por sexo\n",
    "print(\"\\n💼 Condición de Actividad por Sexo:\")\n",
    "actividad_sexo = pd.crosstab(\n",
    "    df_pet['p207'],  # Sexo\n",
    "    df_pet['ocu500'].notna(),  # Tiene datos de empleo\n",
    "    normalize='index'\n",
    ") * 100\n",
    "\n",
    "actividad_sexo.columns = ['Sin datos empleo', 'Con datos empleo']\n",
    "display(actividad_sexo.round(2))\n",
    "\n",
    "# Ingreso promedio por nivel educativo\n",
    "#print(\"\\n💰 Ingreso Promedio por Nivel Educativo:\")\n",
    "#df_pet['ingreso_total'] = df_pet['i524a1'].fillna(0) + df_pet['i530a'].fillna(0)\n",
    "#ingreso_educacion = df_pet.groupby('p208a')['ingreso_total'].agg(['mean', 'median', 'count'])\n",
    "#ingreso_educacion.columns = ['Promedio', 'Mediana', 'N']\n",
    "#display(ingreso_educacion.round(2))"
   ],
   "outputs": [
    {
     "name": "stdout",
     "output_type": "stream",
     "text": [
      "📊 Personas en Edad de Trabajar (PET): 90,227\n",
      "\n",
      "💼 Condición de Actividad por Sexo:\n"
     ]
    },
    {
     "data": {
      "text/plain": [
       "        Sin datos empleo  Con datos empleo\n",
       "p207                                      \n",
       "hombre              2.78             97.22\n",
       "mujer               2.90             97.10"
      ],
      "text/html": [
       "<div>\n",
       "<style scoped>\n",
       "    .dataframe tbody tr th:only-of-type {\n",
       "        vertical-align: middle;\n",
       "    }\n",
       "\n",
       "    .dataframe tbody tr th {\n",
       "        vertical-align: top;\n",
       "    }\n",
       "\n",
       "    .dataframe thead th {\n",
       "        text-align: right;\n",
       "    }\n",
       "</style>\n",
       "<table border=\"1\" class=\"dataframe\">\n",
       "  <thead>\n",
       "    <tr style=\"text-align: right;\">\n",
       "      <th></th>\n",
       "      <th>Sin datos empleo</th>\n",
       "      <th>Con datos empleo</th>\n",
       "    </tr>\n",
       "    <tr>\n",
       "      <th>p207</th>\n",
       "      <th></th>\n",
       "      <th></th>\n",
       "    </tr>\n",
       "  </thead>\n",
       "  <tbody>\n",
       "    <tr>\n",
       "      <th>hombre</th>\n",
       "      <td>2.78</td>\n",
       "      <td>97.22</td>\n",
       "    </tr>\n",
       "    <tr>\n",
       "      <th>mujer</th>\n",
       "      <td>2.90</td>\n",
       "      <td>97.10</td>\n",
       "    </tr>\n",
       "  </tbody>\n",
       "</table>\n",
       "</div>"
      ]
     },
     "metadata": {},
     "output_type": "display_data",
     "jetTransient": {
      "display_id": null
     }
    }
   ],
   "execution_count": 45
  },
  {
   "metadata": {
    "ExecuteTime": {
     "end_time": "2025-10-18T18:37:41.181076300Z",
     "start_time": "2025-10-18T18:37:41.035214200Z"
    }
   },
   "cell_type": "code",
   "source": [
    "# Verificar la columna de edad\n",
    "print(\"🔍 Diagnóstico de la columna 'p208a' (edad):\")\n",
    "print(f\"Tipo de datos: {df_persona_merged['p208a'].dtype}\")\n",
    "print(f\"Valores únicos: {df_persona_merged['p208a'].unique()}\")\n",
    "print(f\"Valores nulos: {df_persona_merged['p208a'].isna().sum()}\")\n",
    "print(f\"Forma del DataFrame original: {df_persona_merged.shape}\")\n",
    "\n",
    "# Convertir a numérico y verificar\n",
    "edades_numericas = pd.to_numeric(df_persona_merged['p208a'], errors='coerce')\n",
    "print(f\"\\n📊 Estadísticas después de conversión numérica:\")\n",
    "print(f\"Valores mínimos: {edades_numericas.min()}\")\n",
    "print(f\"Valores máximos: {edades_numericas.max()}\")\n",
    "print(f\"Valores nulos después de conversión: {edades_numericas.isna().sum()}\")"
   ],
   "outputs": [
    {
     "name": "stdout",
     "output_type": "stream",
     "text": [
      "🔍 Diagnóstico de la columna 'p208a' (edad):\n",
      "Tipo de datos: category\n",
      "Valores únicos: [85, 75, 53, 77, 55, ..., 93, 95, 92, 94, 97]\n",
      "Length: 100\n",
      "Categories (99, int64): [0, 1, 2, 3, ..., 95, 96, 97, 98]\n",
      "Valores nulos: 3126\n",
      "Forma del DataFrame original: (121253, 16)\n",
      "\n",
      "📊 Estadísticas después de conversión numérica:\n",
      "Valores mínimos: 0.0\n",
      "Valores máximos: 98.0\n",
      "Valores nulos después de conversión: 3126\n"
     ]
    }
   ],
   "execution_count": 47
  },
  {
   "metadata": {
    "ExecuteTime": {
     "end_time": "2025-10-18T18:37:50.958228700Z",
     "start_time": "2025-10-18T18:37:50.869673100Z"
    }
   },
   "cell_type": "code",
   "source": [
    "# Convertir a numérico y filtrar correctamente\n",
    "\n",
    "edades_numericas = pd.to_numeric(df_persona_merged['p208a'], errors='coerce')\n",
    "\n",
    "# Filtrar personas en edad de trabajar (14+ años)\n",
    "df_pet = df_persona_merged[edades_numericas >= 14].copy()\n",
    "\n",
    "print(f\"📊 Personas en Edad de Trabajar (PET): {len(df_pet):,}\")\n",
    "\n",
    "# Si sigue siendo 0, investigamos más\n",
    "if len(df_pet) == 0:\n",
    "    print(\"\\n⚠️  ¡Advertencia! El DataFrame filtrado está vacío.\")\n",
    "    print(\"Posibles causas:\")\n",
    "    print(\"1. La columna 'p205' no contiene valores numéricos válidos\")\n",
    "    print(\"2. No hay personas con 14+ años en los datos\")\n",
    "    print(\"3. La conversión numérica está fallando\")\n",
    "\n",
    "    # Verificar algunos registros específicos\n",
    "    print(\"\\n🔍 Muestra de registros originales:\")\n",
    "    print(df_persona_merged[['p205']].head(10))\n",
    "\n",
    "    # Crear un DataFrame temporal para continuar el análisis\n",
    "    df_pet = df_persona_merged.copy()\n",
    "    print(\"⚠️  Continuando con DataFrame sin filtrar para análisis...\")"
   ],
   "outputs": [
    {
     "name": "stdout",
     "output_type": "stream",
     "text": [
      "📊 Personas en Edad de Trabajar (PET): 90,227\n"
     ]
    }
   ],
   "execution_count": 48
  },
  {
   "cell_type": "markdown",
   "metadata": {},
   "source": [
    "## 4. Merge Multi-Nivel: Combinar Datos de Hogar y Persona\n",
    "\n",
    "### 4.1 Agregar Datos de Hogar a las Personas"
   ]
  },
  {
   "metadata": {
    "ExecuteTime": {
     "end_time": "2025-10-18T18:40:50.834645Z",
     "start_time": "2025-10-18T18:40:50.600365700Z"
    }
   },
   "cell_type": "code",
   "source": [
    "# Combinar datos de persona con datos del hogar\n",
    "print(\"🔗 Combinando datos de persona con características del hogar...\")\n",
    "\n",
    "# Llaves de hogar\n",
    "id_hogar = ['conglome', 'vivienda', 'hogar']\n",
    "\n",
    "# Merge de personas con hogares\n",
    "df_persona_hogar = df_persona_merged.merge(\n",
    "    df_hogar_merged[id_hogar + ['pobreza', 'gashog2d', 'inghog2d', 'ubigeo', 'mieperho', 'p110', ]],\n",
    "    on=id_hogar,\n",
    "    how='left'\n",
    ")\n",
    "\n",
    "print(f\"✅ Merge completado!\")\n",
    "print(f\"   📊 Personas con datos de hogar: {len(df_persona_hogar):,}\")\n",
    "print(f\"   📋 Columnas totales: {len(df_persona_hogar.columns)}\")\n",
    "\n",
    "# Muestra\n",
    "print(\"\\n📊 Muestra del dataset completo:\")\n",
    "display(df_persona_hogar[[\n",
    "    'codperso', 'p208a', 'p209', 'p207',  # Persona\n",
    "    'ocu500', 'i524a1',                    # Empleo\n",
    "    'pobreza', 'gashog2d', 'p110'         # Hogar\n",
    "]].head())"
   ],
   "outputs": [
    {
     "name": "stdout",
     "output_type": "stream",
     "text": [
      "🔗 Combinando datos de persona con características del hogar...\n",
      "✅ Merge completado!\n",
      "   📊 Personas con datos de hogar: 121,253\n",
      "   📋 Columnas totales: 22\n",
      "\n",
      "📊 Muestra del dataset completo:\n"
     ]
    },
    {
     "data": {
      "text/plain": [
       "  codperso p208a         p209    p207   ocu500  i524a1   pobreza  \\\n",
       "0       01    85    casado(a)  hombre   no pea     NaN  no pobre   \n",
       "1       02    75    casado(a)   mujer   no pea     NaN  no pobre   \n",
       "2       03    53   soltero(a)   mujer      NaN     NaN  no pobre   \n",
       "3       01    77     viudo(a)   mujer  ocupado     NaN  no pobre   \n",
       "4       02    55  separado(a)  hombre  ocupado     NaN  no pobre   \n",
       "\n",
       "       gashog2d                                p110  \n",
       "0  36949.523438  red publica, dentro de la vivienda  \n",
       "1  36949.523438  red publica, dentro de la vivienda  \n",
       "2  36949.523438  red publica, dentro de la vivienda  \n",
       "3  48161.250000  red publica, dentro de la vivienda  \n",
       "4  48161.250000  red publica, dentro de la vivienda  "
      ],
      "text/html": [
       "<div>\n",
       "<style scoped>\n",
       "    .dataframe tbody tr th:only-of-type {\n",
       "        vertical-align: middle;\n",
       "    }\n",
       "\n",
       "    .dataframe tbody tr th {\n",
       "        vertical-align: top;\n",
       "    }\n",
       "\n",
       "    .dataframe thead th {\n",
       "        text-align: right;\n",
       "    }\n",
       "</style>\n",
       "<table border=\"1\" class=\"dataframe\">\n",
       "  <thead>\n",
       "    <tr style=\"text-align: right;\">\n",
       "      <th></th>\n",
       "      <th>codperso</th>\n",
       "      <th>p208a</th>\n",
       "      <th>p209</th>\n",
       "      <th>p207</th>\n",
       "      <th>ocu500</th>\n",
       "      <th>i524a1</th>\n",
       "      <th>pobreza</th>\n",
       "      <th>gashog2d</th>\n",
       "      <th>p110</th>\n",
       "    </tr>\n",
       "  </thead>\n",
       "  <tbody>\n",
       "    <tr>\n",
       "      <th>0</th>\n",
       "      <td>01</td>\n",
       "      <td>85</td>\n",
       "      <td>casado(a)</td>\n",
       "      <td>hombre</td>\n",
       "      <td>no pea</td>\n",
       "      <td>NaN</td>\n",
       "      <td>no pobre</td>\n",
       "      <td>36949.523438</td>\n",
       "      <td>red publica, dentro de la vivienda</td>\n",
       "    </tr>\n",
       "    <tr>\n",
       "      <th>1</th>\n",
       "      <td>02</td>\n",
       "      <td>75</td>\n",
       "      <td>casado(a)</td>\n",
       "      <td>mujer</td>\n",
       "      <td>no pea</td>\n",
       "      <td>NaN</td>\n",
       "      <td>no pobre</td>\n",
       "      <td>36949.523438</td>\n",
       "      <td>red publica, dentro de la vivienda</td>\n",
       "    </tr>\n",
       "    <tr>\n",
       "      <th>2</th>\n",
       "      <td>03</td>\n",
       "      <td>53</td>\n",
       "      <td>soltero(a)</td>\n",
       "      <td>mujer</td>\n",
       "      <td>NaN</td>\n",
       "      <td>NaN</td>\n",
       "      <td>no pobre</td>\n",
       "      <td>36949.523438</td>\n",
       "      <td>red publica, dentro de la vivienda</td>\n",
       "    </tr>\n",
       "    <tr>\n",
       "      <th>3</th>\n",
       "      <td>01</td>\n",
       "      <td>77</td>\n",
       "      <td>viudo(a)</td>\n",
       "      <td>mujer</td>\n",
       "      <td>ocupado</td>\n",
       "      <td>NaN</td>\n",
       "      <td>no pobre</td>\n",
       "      <td>48161.250000</td>\n",
       "      <td>red publica, dentro de la vivienda</td>\n",
       "    </tr>\n",
       "    <tr>\n",
       "      <th>4</th>\n",
       "      <td>02</td>\n",
       "      <td>55</td>\n",
       "      <td>separado(a)</td>\n",
       "      <td>hombre</td>\n",
       "      <td>ocupado</td>\n",
       "      <td>NaN</td>\n",
       "      <td>no pobre</td>\n",
       "      <td>48161.250000</td>\n",
       "      <td>red publica, dentro de la vivienda</td>\n",
       "    </tr>\n",
       "  </tbody>\n",
       "</table>\n",
       "</div>"
      ]
     },
     "metadata": {},
     "output_type": "display_data",
     "jetTransient": {
      "display_id": null
     }
    }
   ],
   "execution_count": 50
  },
  {
   "cell_type": "markdown",
   "metadata": {},
   "source": [
    "### 4.2 Análisis Integrado: Empleo y Pobreza"
   ]
  },
  {
   "metadata": {
    "ExecuteTime": {
     "end_time": "2025-10-18T19:13:06.425665700Z",
     "start_time": "2025-10-18T19:13:06.398087900Z"
    }
   },
   "cell_type": "code",
   "source": "edades_numericas = pd.to_numeric(df_persona_hogar['p208a'], errors='coerce')\n",
   "outputs": [],
   "execution_count": 57
  },
  {
   "cell_type": "code",
   "metadata": {
    "ExecuteTime": {
     "end_time": "2025-10-18T19:14:26.932794600Z",
     "start_time": "2025-10-18T19:14:26.484848400Z"
    }
   },
   "source": [
    "\n",
    "# Filtrar PET\n",
    "df_pet_hogar = df_persona_hogar[edades_numericas >= 14].copy()\n",
    "\n",
    "# Crear indicador de ocupación\n",
    "df_pet_hogar['ocupado'] = df_pet_hogar['ocu500'].notna()\n",
    "\n",
    "# Tasa de ocupación por condición de pobreza\n",
    "print(\"📊 Tasa de Ocupación por Condición de Pobreza:\")\n",
    "ocupacion_pobreza = pd.crosstab(\n",
    "    df_pet_hogar['pobreza'],\n",
    "    df_pet_hogar['ocupado'],\n",
    "    normalize='index'\n",
    ") * 100\n",
    "\n",
    "ocupacion_pobreza.columns = ['No ocupado', 'Ocupado']\n",
    "display(ocupacion_pobreza.round(2))\n",
    "\n",
    "# Ingreso promedio por pobreza y sexo\n",
    "print(\"\\n💰 Ingreso Promedio por Pobreza y Sexo:\")\n",
    "df_pet_hogar['ingreso_total'] = df_pet_hogar['i524a1'].fillna(0) + df_pet_hogar['i530a'].fillna(0)\n",
    "ingreso_pivot = df_pet_hogar.pivot_table(\n",
    "    values='ingreso_total',\n",
    "    index='pobreza',\n",
    "    columns='p207',\n",
    "    aggfunc='mean'\n",
    ")\n",
    "display(ingreso_pivot.round(2))"
   ],
   "outputs": [
    {
     "name": "stdout",
     "output_type": "stream",
     "text": [
      "📊 Tasa de Ocupación por Condición de Pobreza:\n"
     ]
    },
    {
     "data": {
      "text/plain": [
       "                  No ocupado  Ocupado\n",
       "pobreza                              \n",
       "no pobre                3.06    96.94\n",
       "pobre extremo           2.07    97.93\n",
       "pobre no extremo        2.10    97.90"
      ],
      "text/html": [
       "<div>\n",
       "<style scoped>\n",
       "    .dataframe tbody tr th:only-of-type {\n",
       "        vertical-align: middle;\n",
       "    }\n",
       "\n",
       "    .dataframe tbody tr th {\n",
       "        vertical-align: top;\n",
       "    }\n",
       "\n",
       "    .dataframe thead th {\n",
       "        text-align: right;\n",
       "    }\n",
       "</style>\n",
       "<table border=\"1\" class=\"dataframe\">\n",
       "  <thead>\n",
       "    <tr style=\"text-align: right;\">\n",
       "      <th></th>\n",
       "      <th>No ocupado</th>\n",
       "      <th>Ocupado</th>\n",
       "    </tr>\n",
       "    <tr>\n",
       "      <th>pobreza</th>\n",
       "      <th></th>\n",
       "      <th></th>\n",
       "    </tr>\n",
       "  </thead>\n",
       "  <tbody>\n",
       "    <tr>\n",
       "      <th>no pobre</th>\n",
       "      <td>3.06</td>\n",
       "      <td>96.94</td>\n",
       "    </tr>\n",
       "    <tr>\n",
       "      <th>pobre extremo</th>\n",
       "      <td>2.07</td>\n",
       "      <td>97.93</td>\n",
       "    </tr>\n",
       "    <tr>\n",
       "      <th>pobre no extremo</th>\n",
       "      <td>2.10</td>\n",
       "      <td>97.90</td>\n",
       "    </tr>\n",
       "  </tbody>\n",
       "</table>\n",
       "</div>"
      ]
     },
     "metadata": {},
     "output_type": "display_data",
     "jetTransient": {
      "display_id": null
     }
    },
    {
     "name": "stdout",
     "output_type": "stream",
     "text": [
      "\n",
      "💰 Ingreso Promedio por Pobreza y Sexo:\n"
     ]
    },
    {
     "data": {
      "text/plain": [
       "p207                    hombre        mujer\n",
       "pobreza                                    \n",
       "no pobre          12718.080078  6648.379883\n",
       "pobre extremo      3575.060059  1094.569946\n",
       "pobre no extremo   6166.549805  2263.260010"
      ],
      "text/html": [
       "<div>\n",
       "<style scoped>\n",
       "    .dataframe tbody tr th:only-of-type {\n",
       "        vertical-align: middle;\n",
       "    }\n",
       "\n",
       "    .dataframe tbody tr th {\n",
       "        vertical-align: top;\n",
       "    }\n",
       "\n",
       "    .dataframe thead th {\n",
       "        text-align: right;\n",
       "    }\n",
       "</style>\n",
       "<table border=\"1\" class=\"dataframe\">\n",
       "  <thead>\n",
       "    <tr style=\"text-align: right;\">\n",
       "      <th>p207</th>\n",
       "      <th>hombre</th>\n",
       "      <th>mujer</th>\n",
       "    </tr>\n",
       "    <tr>\n",
       "      <th>pobreza</th>\n",
       "      <th></th>\n",
       "      <th></th>\n",
       "    </tr>\n",
       "  </thead>\n",
       "  <tbody>\n",
       "    <tr>\n",
       "      <th>no pobre</th>\n",
       "      <td>12718.080078</td>\n",
       "      <td>6648.379883</td>\n",
       "    </tr>\n",
       "    <tr>\n",
       "      <th>pobre extremo</th>\n",
       "      <td>3575.060059</td>\n",
       "      <td>1094.569946</td>\n",
       "    </tr>\n",
       "    <tr>\n",
       "      <th>pobre no extremo</th>\n",
       "      <td>6166.549805</td>\n",
       "      <td>2263.260010</td>\n",
       "    </tr>\n",
       "  </tbody>\n",
       "</table>\n",
       "</div>"
      ]
     },
     "metadata": {},
     "output_type": "display_data",
     "jetTransient": {
      "display_id": null
     }
    }
   ],
   "execution_count": 63
  },
  {
   "cell_type": "markdown",
   "metadata": {},
   "source": [
    "## 5. Validación de Calidad de Merge\n",
    "\n",
    "### 5.1 Verificar Integridad Referencial"
   ]
  },
  {
   "cell_type": "code",
   "metadata": {
    "ExecuteTime": {
     "end_time": "2025-10-18T19:14:57.611599300Z",
     "start_time": "2025-10-18T19:14:57.518846700Z"
    }
   },
   "source": [
    "# Verificar que no se perdieron hogares en el merge\n",
    "print(\"🔍 Verificación de Integridad:\")\n",
    "print(\"=\"*70)\n",
    "\n",
    "print(\"\\n📊 A NIVEL HOGAR:\")\n",
    "print(f\"   Hogares en Sumaria (34): {len(df_sumaria):,}\")\n",
    "print(f\"   Hogares en Vivienda (01): {len(df_vivienda):,}\")\n",
    "print(f\"   Hogares merged: {len(df_hogar_merged):,}\")\n",
    "print(f\"   Pérdida: {len(df_sumaria) - len(df_hogar_merged):,} hogares\")\n",
    "\n",
    "print(\"\\n📊 A NIVEL PERSONA:\")\n",
    "print(f\"   Personas en Características (02): {len(df_caracteristicas):,}\")\n",
    "print(f\"   Personas en Empleo (05): {len(df_empleo):,}\")\n",
    "print(f\"   Personas merged: {len(df_persona_merged):,}\")\n",
    "print(f\"   Diferencia: {len(df_caracteristicas) - len(df_persona_merged):,} personas\")"
   ],
   "outputs": [
    {
     "name": "stdout",
     "output_type": "stream",
     "text": [
      "🔍 Verificación de Integridad:\n",
      "======================================================================\n",
      "\n",
      "📊 A NIVEL HOGAR:\n",
      "   Hogares en Sumaria (34): 34,213\n",
      "   Hogares en Vivienda (01): 44,122\n",
      "   Hogares merged: 34,213\n",
      "   Pérdida: 0 hogares\n",
      "\n",
      "📊 A NIVEL PERSONA:\n",
      "   Personas en Características (02): 121,253\n",
      "   Personas en Empleo (05): 87,661\n",
      "   Personas merged: 121,253\n",
      "   Diferencia: 0 personas\n"
     ]
    }
   ],
   "execution_count": 64
  },
  {
   "cell_type": "markdown",
   "metadata": {},
   "source": [
    "### 5.2 Análisis de Valores Faltantes Post-Merge"
   ]
  },
  {
   "cell_type": "code",
   "metadata": {
    "ExecuteTime": {
     "end_time": "2025-10-18T19:15:13.282632600Z",
     "start_time": "2025-10-18T19:15:13.150771900Z"
    }
   },
   "source": [
    "# Columnas con mayor porcentaje de valores faltantes en el merge de personas\n",
    "print(\"📊 Columnas con Valores Faltantes (Top 10):\")\n",
    "missing_pct = (df_persona_merged.isna().sum() / len(df_persona_merged) * 100).sort_values(ascending=False)\n",
    "display(missing_pct.head(10).round(2))\n",
    "\n",
    "print(\"\\n💡 Nota: Es normal tener valores faltantes en columnas de empleo\")\n",
    "print(\"   para personas que no forman parte de la PEA (menores, estudiantes, etc.)\")"
   ],
   "outputs": [
    {
     "name": "stdout",
     "output_type": "stream",
     "text": [
      "📊 Columnas con Valores Faltantes (Top 10):\n"
     ]
    },
    {
     "data": {
      "text/plain": [
       "p524a1    79.10\n",
       "p523      78.85\n",
       "i524a1    78.85\n",
       "i530a     77.35\n",
       "p511a     69.06\n",
       "p506      46.20\n",
       "p507      46.20\n",
       "ocu500    27.70\n",
       "p209      21.65\n",
       "p207       2.58\n",
       "dtype: float64"
      ]
     },
     "metadata": {},
     "output_type": "display_data",
     "jetTransient": {
      "display_id": null
     }
    },
    {
     "name": "stdout",
     "output_type": "stream",
     "text": [
      "\n",
      "💡 Nota: Es normal tener valores faltantes en columnas de empleo\n",
      "   para personas que no forman parte de la PEA (menores, estudiantes, etc.)\n"
     ]
    }
   ],
   "execution_count": 65
  },
  {
   "cell_type": "markdown",
   "metadata": {},
   "source": [
    "## 6. Guardar Resultados"
   ]
  },
  {
   "cell_type": "code",
   "metadata": {
    "ExecuteTime": {
     "end_time": "2025-10-18T19:15:21.059293400Z",
     "start_time": "2025-10-18T19:15:18.267202700Z"
    }
   },
   "source": [
    "# Guardar datasets combinados\n",
    "output_dir = \"output\"\n",
    "import os\n",
    "os.makedirs(output_dir, exist_ok=True)\n",
    "\n",
    "# Guardar datos de hogar\n",
    "df_hogar_merged.to_csv(f\"{output_dir}/enaho_{year}_hogar_merged.csv\", index=False)\n",
    "print(f\"✅ Datos de hogar guardados en: {output_dir}/enaho_{year}_hogar_merged.csv\")\n",
    "\n",
    "# Guardar datos de persona\n",
    "df_persona_merged.to_csv(f\"{output_dir}/enaho_{year}_persona_merged.csv\", index=False)\n",
    "print(f\"✅ Datos de persona guardados en: {output_dir}/enaho_{year}_persona_merged.csv\")\n",
    "\n",
    "# Guardar datos combinados persona-hogar\n",
    "df_persona_hogar.to_csv(f\"{output_dir}/enaho_{year}_persona_hogar.csv\", index=False)\n",
    "print(f\"✅ Datos persona-hogar guardados en: {output_dir}/enaho_{year}_persona_hogar.csv\")"
   ],
   "outputs": [
    {
     "name": "stdout",
     "output_type": "stream",
     "text": [
      "✅ Datos de hogar guardados en: output/enaho_2022_hogar_merged.csv\n",
      "✅ Datos de persona guardados en: output/enaho_2022_persona_merged.csv\n",
      "✅ Datos persona-hogar guardados en: output/enaho_2022_persona_hogar.csv\n"
     ]
    }
   ],
   "execution_count": 66
  },
  {
   "cell_type": "markdown",
   "metadata": {},
   "source": [
    "## Resumen\n",
    "\n",
    "En este tutorial aprendiste a:\n",
    "\n",
    "1. ✅ Combinar módulos ENAHO a nivel hogar (Sumaria + Vivienda)\n",
    "2. ✅ Combinar módulos a nivel persona (Características + Empleo)\n",
    "3. ✅ Realizar merges multi-nivel (Persona + Hogar)\n",
    "4. ✅ Interpretar reportes de calidad de merge\n",
    "5. ✅ Validar integridad referencial\n",
    "6. ✅ Analizar valores faltantes\n",
    "7. ✅ Realizar análisis exploratorios con datos combinados\n",
    "\n",
    "### Próximos Pasos\n",
    "\n",
    "- **Tutorial 03**: Análisis de valores faltantes con `null_analysis`\n",
    "- **Tutorial 04**: Pipeline completo de análisis"
   ]
  }
 ],
 "metadata": {
  "kernelspec": {
   "display_name": "Python 3",
   "language": "python",
   "name": "python3"
  },
  "language_info": {
   "codemirror_mode": {
    "name": "ipython",
    "version": 3
   },
   "file_extension": ".py",
   "mimetype": "text/x-python",
   "name": "python",
   "nbconvert_exporter": "python",
   "pygments_lexer": "ipython3",
   "version": "3.8.0"
  }
 },
 "nbformat": 4,
 "nbformat_minor": 4
}
